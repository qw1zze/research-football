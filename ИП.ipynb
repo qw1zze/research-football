{
  "nbformat": 4,
  "nbformat_minor": 0,
  "metadata": {
    "colab": {
      "provenance": []
    },
    "kernelspec": {
      "name": "python3",
      "display_name": "Python 3"
    },
    "language_info": {
      "name": "python"
    }
  },
  "cells": [
    {
      "cell_type": "code",
      "execution_count": null,
      "metadata": {
        "colab": {
          "base_uri": "https://localhost:8080/"
        },
        "id": "9xUooAy2ot9S",
        "outputId": "5115baf9-9d2d-43df-bd0c-bcee50f28495"
      },
      "outputs": [
        {
          "output_type": "stream",
          "name": "stdout",
          "text": [
            "Число строк: 500, число столбцов: 13\n",
            "\n"
          ]
        }
      ],
      "source": [
        "import pandas as pd\n",
        "\n",
        "df = pd.read_excel('players.xlsx')\n",
        "\n",
        "print(f\"Число строк: {df.shape[0]}, число столбцов: {df.shape[1]}\")\n",
        "print()"
      ]
    },
    {
      "cell_type": "code",
      "source": [
        "description = [\"Имя футболиста, заданное типом string\",\n",
        "               \"Клубу, к кторому принадлежит футболист. Номинальная переменная, выраженная типом string\",\n",
        "               \"Лига, в которой играет футболист. Номинальная переменная, выраженная типом string\",\n",
        "               \"Возраст футболиста в годах. Метрическая переменная, выраженная типом integer\",\n",
        "               \"Рост футболиста в сантиметрах. Метрическая переменная, выраженная типом integer\",\n",
        "               \"Номер футболиста. Порядковая переменная, выраженная типом integer\",\n",
        "               \"Позиция футболиста. Номинальная переменная, выраженная типом string\",\n",
        "               \"Текущая трансферная цена футболиста в млн €. Метрическая переменная, выраженная типом integer\",\n",
        "               \"Общее количество игр. Метрическая переменная, выраженная типом integer\",\n",
        "               \"Общее число голов. Метрическая переменная, выраженная типом integer\",\n",
        "               \"Общее число голевых передач. Метрическая переменная, выраженная типом integer\",\n",
        "               \"Страна, где родился футболист. Номинальная переменная, выраженная типом string\",\n",
        "               \"Максимальная трансферная цена футболиста в млн €. Метрическая переменная, выраженная типом integer\"]\n",
        "\n",
        "for i in range(len(dict(df.dtypes))):\n",
        "  print(str(df.dtypes.keys()[i]) + \" - \" + description[i] + \". Количество пустых значений: \" + str(df[df.dtypes.keys()[i]].isna().sum()))\n",
        "  print()"
      ],
      "metadata": {
        "colab": {
          "base_uri": "https://localhost:8080/"
        },
        "id": "Pysp4X8Tvr6R",
        "outputId": "cbaf1b09-efb6-49e3-f34c-ffbbbf110e39"
      },
      "execution_count": null,
      "outputs": [
        {
          "output_type": "stream",
          "name": "stdout",
          "text": [
            "Name - Имя футболиста, заданное типом string. Количество пустых значений: 0\n",
            "\n",
            "Club - Клубу, к кторому принадлежит футболист. Номинальная переменная, выраженная типом string. Количество пустых значений: 0\n",
            "\n",
            "League - Лига, в которой играет футболист. Номинальная переменная, выраженная типом string. Количество пустых значений: 0\n",
            "\n",
            "Age - Возраст футболиста в годах. Метрическая переменная, выраженная типом integer. Количество пустых значений: 0\n",
            "\n",
            "Height - Рост футболиста в сантиметрах. Метрическая переменная, выраженная типом integer. Количество пустых значений: 0\n",
            "\n",
            "Num - Номер футболиста. Порядковая переменная, выраженная типом integer. Количество пустых значений: 0\n",
            "\n",
            "Position - Позиция футболиста. Номинальная переменная, выраженная типом string. Количество пустых значений: 0\n",
            "\n",
            "Price - Текущая трансферная цена футболиста в млн €. Метрическая переменная, выраженная типом integer. Количество пустых значений: 0\n",
            "\n",
            "Games - Общее количество игр. Метрическая переменная, выраженная типом integer. Количество пустых значений: 0\n",
            "\n",
            "Goals - Общее число голов. Метрическая переменная, выраженная типом integer. Количество пустых значений: 0\n",
            "\n",
            "Asists - Общее число голевых передач. Метрическая переменная, выраженная типом integer. Количество пустых значений: 0\n",
            "\n",
            "Country - Страна, где родился футболист. Номинальная переменная, выраженная типом string. Количество пустых значений: 0\n",
            "\n",
            "Max price - Максимальная трансферная цена футболиста в млн €. Метрическая переменная, выраженная типом integer. Количество пустых значений: 0\n",
            "\n"
          ]
        }
      ]
    },
    {
      "cell_type": "markdown",
      "source": [
        "Составим отношение количества голов к общему числу матчей"
      ],
      "metadata": {
        "id": "wbKCyeZnhvuQ"
      }
    },
    {
      "cell_type": "code",
      "source": [
        "df[\"AvGoals\"] = df[\"Goals\"] / df[\"Games\"]"
      ],
      "metadata": {
        "id": "UvqnuTZ7CIKY"
      },
      "execution_count": null,
      "outputs": []
    },
    {
      "cell_type": "markdown",
      "source": [
        "Составим категориальную переменную, связанную с возрастом футболистов. Интервал 5 лет самый оптимальный относительно возрастов профессиональных футболистов"
      ],
      "metadata": {
        "id": "-AAFUX4Wh4Nu"
      }
    },
    {
      "cell_type": "code",
      "source": [
        "df_old = df.copy()\n",
        "labels = [\"{0} - {1}\".format(i, i + 4) for i in range(15, 31, 5)]\n",
        "df[\"Age\"] = pd.cut(df.Age, range(15, 36, 5), right=False, labels=labels)"
      ],
      "metadata": {
        "id": "NAETnT3VDzXZ"
      },
      "execution_count": null,
      "outputs": []
    },
    {
      "cell_type": "code",
      "source": [
        "info_about_leagues = df.loc[:, [\"Name\", \"Club\", \"League\", \"Position\"]]\n",
        "info_about_leagues.T"
      ],
      "metadata": {
        "colab": {
          "base_uri": "https://localhost:8080/",
          "height": 338
        },
        "id": "u4OKO-PkHX8R",
        "outputId": "8bb49b86-ae7d-4741-ab00-389f178cfb36"
      },
      "execution_count": null,
      "outputs": [
        {
          "output_type": "execute_result",
          "data": {
            "text/plain": [
              "                    0               1                2                3    \\\n",
              "Name      Kylian Mbappé  Erling Haaland  Vinicius Junior  Jude Bellingham   \n",
              "Club                ПСЖ  Манчестер Сити      Реал Мадрид      Боруссия Д.   \n",
              "League           Лига 1    Премьер-Лига           ЛаЛига       Бундеслига   \n",
              "Position            ФРВ             ФРВ               ЛВ               ЦП   \n",
              "\n",
              "                     4          5              6             7    \\\n",
              "Name          Phil Foden      Pedri  Jamal Musiala   Bukayo Saka   \n",
              "Club      Манчестер Сити  Барселона        Бавария       Арсенал   \n",
              "League      Премьер-Лига     ЛаЛига     Бундеслига  Премьер-Лига   \n",
              "Position              ЛВ         ЦП            ЦАП            ПВ   \n",
              "\n",
              "                        8          9    ...             490             491  \\\n",
              "Name      Federico Valverde       Gavi  ...  Tommaso Pobega    Josip Sutalo   \n",
              "Club            Реал Мадрид  Барселона  ...           Милан   Динамо Загреб   \n",
              "League               ЛаЛига     ЛаЛига  ...         Серия А  SuperSport ХНЛ   \n",
              "Position                 ЦП         ЦП  ...              ЦП              ЦЗ   \n",
              "\n",
              "                     492           493              494           495  \\\n",
              "Name      Sasa Kalajdzic   Arthur Melo  Alfonso Pedraza   Ben Godfrey   \n",
              "Club       Вулверхэмптон     Ливерпуль       Вильярреал       Эвертон   \n",
              "League      Премьер-Лига  Премьер-Лига           ЛаЛига  Премьер-Лига   \n",
              "Position             ФРВ            ЦП               ЛЗ            ЦЗ   \n",
              "\n",
              "                                496            497                    498  \\\n",
              "Name                         Gerson  Eddie Nketiah  Konstantinos Tsimikas   \n",
              "Club                       Фламенго        Арсенал              Ливерпуль   \n",
              "League    Кариока - Кубок Гуанабара   Премьер-Лига           Премьер-Лига   \n",
              "Position                         ЦП            ФРВ                     ЛЗ   \n",
              "\n",
              "                    499  \n",
              "Name         Umar Sadiq  \n",
              "Club      Реал Сосьедад  \n",
              "League           ЛаЛига  \n",
              "Position            ФРВ  \n",
              "\n",
              "[4 rows x 500 columns]"
            ],
            "text/html": [
              "\n",
              "  <div id=\"df-bdd95552-860c-4f29-a333-345e7434c126\">\n",
              "    <div class=\"colab-df-container\">\n",
              "      <div>\n",
              "<style scoped>\n",
              "    .dataframe tbody tr th:only-of-type {\n",
              "        vertical-align: middle;\n",
              "    }\n",
              "\n",
              "    .dataframe tbody tr th {\n",
              "        vertical-align: top;\n",
              "    }\n",
              "\n",
              "    .dataframe thead th {\n",
              "        text-align: right;\n",
              "    }\n",
              "</style>\n",
              "<table border=\"1\" class=\"dataframe\">\n",
              "  <thead>\n",
              "    <tr style=\"text-align: right;\">\n",
              "      <th></th>\n",
              "      <th>0</th>\n",
              "      <th>1</th>\n",
              "      <th>2</th>\n",
              "      <th>3</th>\n",
              "      <th>4</th>\n",
              "      <th>5</th>\n",
              "      <th>6</th>\n",
              "      <th>7</th>\n",
              "      <th>8</th>\n",
              "      <th>9</th>\n",
              "      <th>...</th>\n",
              "      <th>490</th>\n",
              "      <th>491</th>\n",
              "      <th>492</th>\n",
              "      <th>493</th>\n",
              "      <th>494</th>\n",
              "      <th>495</th>\n",
              "      <th>496</th>\n",
              "      <th>497</th>\n",
              "      <th>498</th>\n",
              "      <th>499</th>\n",
              "    </tr>\n",
              "  </thead>\n",
              "  <tbody>\n",
              "    <tr>\n",
              "      <th>Name</th>\n",
              "      <td>Kylian Mbappé</td>\n",
              "      <td>Erling Haaland</td>\n",
              "      <td>Vinicius Junior</td>\n",
              "      <td>Jude Bellingham</td>\n",
              "      <td>Phil Foden</td>\n",
              "      <td>Pedri</td>\n",
              "      <td>Jamal Musiala</td>\n",
              "      <td>Bukayo Saka</td>\n",
              "      <td>Federico Valverde</td>\n",
              "      <td>Gavi</td>\n",
              "      <td>...</td>\n",
              "      <td>Tommaso Pobega</td>\n",
              "      <td>Josip Sutalo</td>\n",
              "      <td>Sasa Kalajdzic</td>\n",
              "      <td>Arthur Melo</td>\n",
              "      <td>Alfonso Pedraza</td>\n",
              "      <td>Ben Godfrey</td>\n",
              "      <td>Gerson</td>\n",
              "      <td>Eddie Nketiah</td>\n",
              "      <td>Konstantinos Tsimikas</td>\n",
              "      <td>Umar Sadiq</td>\n",
              "    </tr>\n",
              "    <tr>\n",
              "      <th>Club</th>\n",
              "      <td>ПСЖ</td>\n",
              "      <td>Манчестер Сити</td>\n",
              "      <td>Реал Мадрид</td>\n",
              "      <td>Боруссия Д.</td>\n",
              "      <td>Манчестер Сити</td>\n",
              "      <td>Барселона</td>\n",
              "      <td>Бавария</td>\n",
              "      <td>Арсенал</td>\n",
              "      <td>Реал Мадрид</td>\n",
              "      <td>Барселона</td>\n",
              "      <td>...</td>\n",
              "      <td>Милан</td>\n",
              "      <td>Динамо Загреб</td>\n",
              "      <td>Вулверхэмптон</td>\n",
              "      <td>Ливерпуль</td>\n",
              "      <td>Вильярреал</td>\n",
              "      <td>Эвертон</td>\n",
              "      <td>Фламенго</td>\n",
              "      <td>Арсенал</td>\n",
              "      <td>Ливерпуль</td>\n",
              "      <td>Реал Сосьедад</td>\n",
              "    </tr>\n",
              "    <tr>\n",
              "      <th>League</th>\n",
              "      <td>Лига 1</td>\n",
              "      <td>Премьер-Лига</td>\n",
              "      <td>ЛаЛига</td>\n",
              "      <td>Бундеслига</td>\n",
              "      <td>Премьер-Лига</td>\n",
              "      <td>ЛаЛига</td>\n",
              "      <td>Бундеслига</td>\n",
              "      <td>Премьер-Лига</td>\n",
              "      <td>ЛаЛига</td>\n",
              "      <td>ЛаЛига</td>\n",
              "      <td>...</td>\n",
              "      <td>Серия А</td>\n",
              "      <td>SuperSport ХНЛ</td>\n",
              "      <td>Премьер-Лига</td>\n",
              "      <td>Премьер-Лига</td>\n",
              "      <td>ЛаЛига</td>\n",
              "      <td>Премьер-Лига</td>\n",
              "      <td>Кариока - Кубок Гуанабара</td>\n",
              "      <td>Премьер-Лига</td>\n",
              "      <td>Премьер-Лига</td>\n",
              "      <td>ЛаЛига</td>\n",
              "    </tr>\n",
              "    <tr>\n",
              "      <th>Position</th>\n",
              "      <td>ФРВ</td>\n",
              "      <td>ФРВ</td>\n",
              "      <td>ЛВ</td>\n",
              "      <td>ЦП</td>\n",
              "      <td>ЛВ</td>\n",
              "      <td>ЦП</td>\n",
              "      <td>ЦАП</td>\n",
              "      <td>ПВ</td>\n",
              "      <td>ЦП</td>\n",
              "      <td>ЦП</td>\n",
              "      <td>...</td>\n",
              "      <td>ЦП</td>\n",
              "      <td>ЦЗ</td>\n",
              "      <td>ФРВ</td>\n",
              "      <td>ЦП</td>\n",
              "      <td>ЛЗ</td>\n",
              "      <td>ЦЗ</td>\n",
              "      <td>ЦП</td>\n",
              "      <td>ФРВ</td>\n",
              "      <td>ЛЗ</td>\n",
              "      <td>ФРВ</td>\n",
              "    </tr>\n",
              "  </tbody>\n",
              "</table>\n",
              "<p>4 rows × 500 columns</p>\n",
              "</div>\n",
              "      <button class=\"colab-df-convert\" onclick=\"convertToInteractive('df-bdd95552-860c-4f29-a333-345e7434c126')\"\n",
              "              title=\"Convert this dataframe to an interactive table.\"\n",
              "              style=\"display:none;\">\n",
              "        \n",
              "  <svg xmlns=\"http://www.w3.org/2000/svg\" height=\"24px\"viewBox=\"0 0 24 24\"\n",
              "       width=\"24px\">\n",
              "    <path d=\"M0 0h24v24H0V0z\" fill=\"none\"/>\n",
              "    <path d=\"M18.56 5.44l.94 2.06.94-2.06 2.06-.94-2.06-.94-.94-2.06-.94 2.06-2.06.94zm-11 1L8.5 8.5l.94-2.06 2.06-.94-2.06-.94L8.5 2.5l-.94 2.06-2.06.94zm10 10l.94 2.06.94-2.06 2.06-.94-2.06-.94-.94-2.06-.94 2.06-2.06.94z\"/><path d=\"M17.41 7.96l-1.37-1.37c-.4-.4-.92-.59-1.43-.59-.52 0-1.04.2-1.43.59L10.3 9.45l-7.72 7.72c-.78.78-.78 2.05 0 2.83L4 21.41c.39.39.9.59 1.41.59.51 0 1.02-.2 1.41-.59l7.78-7.78 2.81-2.81c.8-.78.8-2.07 0-2.86zM5.41 20L4 18.59l7.72-7.72 1.47 1.35L5.41 20z\"/>\n",
              "  </svg>\n",
              "      </button>\n",
              "      \n",
              "  <style>\n",
              "    .colab-df-container {\n",
              "      display:flex;\n",
              "      flex-wrap:wrap;\n",
              "      gap: 12px;\n",
              "    }\n",
              "\n",
              "    .colab-df-convert {\n",
              "      background-color: #E8F0FE;\n",
              "      border: none;\n",
              "      border-radius: 50%;\n",
              "      cursor: pointer;\n",
              "      display: none;\n",
              "      fill: #1967D2;\n",
              "      height: 32px;\n",
              "      padding: 0 0 0 0;\n",
              "      width: 32px;\n",
              "    }\n",
              "\n",
              "    .colab-df-convert:hover {\n",
              "      background-color: #E2EBFA;\n",
              "      box-shadow: 0px 1px 2px rgba(60, 64, 67, 0.3), 0px 1px 3px 1px rgba(60, 64, 67, 0.15);\n",
              "      fill: #174EA6;\n",
              "    }\n",
              "\n",
              "    [theme=dark] .colab-df-convert {\n",
              "      background-color: #3B4455;\n",
              "      fill: #D2E3FC;\n",
              "    }\n",
              "\n",
              "    [theme=dark] .colab-df-convert:hover {\n",
              "      background-color: #434B5C;\n",
              "      box-shadow: 0px 1px 3px 1px rgba(0, 0, 0, 0.15);\n",
              "      filter: drop-shadow(0px 1px 2px rgba(0, 0, 0, 0.3));\n",
              "      fill: #FFFFFF;\n",
              "    }\n",
              "  </style>\n",
              "\n",
              "      <script>\n",
              "        const buttonEl =\n",
              "          document.querySelector('#df-bdd95552-860c-4f29-a333-345e7434c126 button.colab-df-convert');\n",
              "        buttonEl.style.display =\n",
              "          google.colab.kernel.accessAllowed ? 'block' : 'none';\n",
              "\n",
              "        async function convertToInteractive(key) {\n",
              "          const element = document.querySelector('#df-bdd95552-860c-4f29-a333-345e7434c126');\n",
              "          const dataTable =\n",
              "            await google.colab.kernel.invokeFunction('convertToInteractive',\n",
              "                                                     [key], {});\n",
              "          if (!dataTable) return;\n",
              "\n",
              "          const docLinkHtml = 'Like what you see? Visit the ' +\n",
              "            '<a target=\"_blank\" href=https://colab.research.google.com/notebooks/data_table.ipynb>data table notebook</a>'\n",
              "            + ' to learn more about interactive tables.';\n",
              "          element.innerHTML = '';\n",
              "          dataTable['output_type'] = 'display_data';\n",
              "          await google.colab.output.renderOutput(dataTable, element);\n",
              "          const docLink = document.createElement('div');\n",
              "          docLink.innerHTML = docLinkHtml;\n",
              "          element.appendChild(docLink);\n",
              "        }\n",
              "      </script>\n",
              "    </div>\n",
              "  </div>\n",
              "  "
            ]
          },
          "metadata": {},
          "execution_count": 57
        }
      ]
    },
    {
      "cell_type": "markdown",
      "source": [
        "Сделаем сортировку по нескольким полям."
      ],
      "metadata": {
        "id": "MQR8QjET4lFG"
      }
    },
    {
      "cell_type": "code",
      "source": [
        "df = df.sort_values(by=['Club', 'League', 'Age'], ascending=[True, True, True])\n",
        "df.head(20).loc[:, ['Club', 'League', 'Age']]"
      ],
      "metadata": {
        "colab": {
          "base_uri": "https://localhost:8080/",
          "height": 676
        },
        "id": "6jLsv-sRJjG2",
        "outputId": "c31ffa61-5ec3-4a74-c593-2711b6ed33aa"
      },
      "execution_count": null,
      "outputs": [
        {
          "output_type": "execute_result",
          "data": {
            "text/plain": [
              "            Club               League      Age\n",
              "157  Айнтрахт Ф.           Бундеслига  20 - 24\n",
              "197  Айнтрахт Ф.           Бундеслига  20 - 24\n",
              "251  Айнтрахт Ф.           Бундеслига  20 - 24\n",
              "222  Айнтрахт Ф.           Бундеслига  25 - 29\n",
              "383  Айнтрахт Ф.           Бундеслига  25 - 29\n",
              "468     Аль-Наср  Саудовская Про-Лига      NaN\n",
              "7        Арсенал         Премьер-Лига  20 - 24\n",
              "50       Арсенал         Премьер-Лига  20 - 24\n",
              "64       Арсенал         Премьер-Лига  20 - 24\n",
              "84       Арсенал         Премьер-Лига  20 - 24\n",
              "149      Арсенал         Премьер-Лига  20 - 24\n",
              "211      Арсенал         Премьер-Лига  20 - 24\n",
              "217      Арсенал         Премьер-Лига  20 - 24\n",
              "310      Арсенал         Премьер-Лига  20 - 24\n",
              "497      Арсенал         Премьер-Лига  20 - 24\n",
              "26       Арсенал         Премьер-Лига  25 - 29\n",
              "111      Арсенал         Премьер-Лига  25 - 29\n",
              "125      Арсенал         Премьер-Лига  25 - 29\n",
              "155      Арсенал         Премьер-Лига  25 - 29\n",
              "204      Арсенал         Премьер-Лига  25 - 29"
            ],
            "text/html": [
              "\n",
              "  <div id=\"df-46b1a932-294b-40b7-870d-029089f58904\">\n",
              "    <div class=\"colab-df-container\">\n",
              "      <div>\n",
              "<style scoped>\n",
              "    .dataframe tbody tr th:only-of-type {\n",
              "        vertical-align: middle;\n",
              "    }\n",
              "\n",
              "    .dataframe tbody tr th {\n",
              "        vertical-align: top;\n",
              "    }\n",
              "\n",
              "    .dataframe thead th {\n",
              "        text-align: right;\n",
              "    }\n",
              "</style>\n",
              "<table border=\"1\" class=\"dataframe\">\n",
              "  <thead>\n",
              "    <tr style=\"text-align: right;\">\n",
              "      <th></th>\n",
              "      <th>Club</th>\n",
              "      <th>League</th>\n",
              "      <th>Age</th>\n",
              "    </tr>\n",
              "  </thead>\n",
              "  <tbody>\n",
              "    <tr>\n",
              "      <th>157</th>\n",
              "      <td>Айнтрахт Ф.</td>\n",
              "      <td>Бундеслига</td>\n",
              "      <td>20 - 24</td>\n",
              "    </tr>\n",
              "    <tr>\n",
              "      <th>197</th>\n",
              "      <td>Айнтрахт Ф.</td>\n",
              "      <td>Бундеслига</td>\n",
              "      <td>20 - 24</td>\n",
              "    </tr>\n",
              "    <tr>\n",
              "      <th>251</th>\n",
              "      <td>Айнтрахт Ф.</td>\n",
              "      <td>Бундеслига</td>\n",
              "      <td>20 - 24</td>\n",
              "    </tr>\n",
              "    <tr>\n",
              "      <th>222</th>\n",
              "      <td>Айнтрахт Ф.</td>\n",
              "      <td>Бундеслига</td>\n",
              "      <td>25 - 29</td>\n",
              "    </tr>\n",
              "    <tr>\n",
              "      <th>383</th>\n",
              "      <td>Айнтрахт Ф.</td>\n",
              "      <td>Бундеслига</td>\n",
              "      <td>25 - 29</td>\n",
              "    </tr>\n",
              "    <tr>\n",
              "      <th>468</th>\n",
              "      <td>Аль-Наср</td>\n",
              "      <td>Саудовская Про-Лига</td>\n",
              "      <td>NaN</td>\n",
              "    </tr>\n",
              "    <tr>\n",
              "      <th>7</th>\n",
              "      <td>Арсенал</td>\n",
              "      <td>Премьер-Лига</td>\n",
              "      <td>20 - 24</td>\n",
              "    </tr>\n",
              "    <tr>\n",
              "      <th>50</th>\n",
              "      <td>Арсенал</td>\n",
              "      <td>Премьер-Лига</td>\n",
              "      <td>20 - 24</td>\n",
              "    </tr>\n",
              "    <tr>\n",
              "      <th>64</th>\n",
              "      <td>Арсенал</td>\n",
              "      <td>Премьер-Лига</td>\n",
              "      <td>20 - 24</td>\n",
              "    </tr>\n",
              "    <tr>\n",
              "      <th>84</th>\n",
              "      <td>Арсенал</td>\n",
              "      <td>Премьер-Лига</td>\n",
              "      <td>20 - 24</td>\n",
              "    </tr>\n",
              "    <tr>\n",
              "      <th>149</th>\n",
              "      <td>Арсенал</td>\n",
              "      <td>Премьер-Лига</td>\n",
              "      <td>20 - 24</td>\n",
              "    </tr>\n",
              "    <tr>\n",
              "      <th>211</th>\n",
              "      <td>Арсенал</td>\n",
              "      <td>Премьер-Лига</td>\n",
              "      <td>20 - 24</td>\n",
              "    </tr>\n",
              "    <tr>\n",
              "      <th>217</th>\n",
              "      <td>Арсенал</td>\n",
              "      <td>Премьер-Лига</td>\n",
              "      <td>20 - 24</td>\n",
              "    </tr>\n",
              "    <tr>\n",
              "      <th>310</th>\n",
              "      <td>Арсенал</td>\n",
              "      <td>Премьер-Лига</td>\n",
              "      <td>20 - 24</td>\n",
              "    </tr>\n",
              "    <tr>\n",
              "      <th>497</th>\n",
              "      <td>Арсенал</td>\n",
              "      <td>Премьер-Лига</td>\n",
              "      <td>20 - 24</td>\n",
              "    </tr>\n",
              "    <tr>\n",
              "      <th>26</th>\n",
              "      <td>Арсенал</td>\n",
              "      <td>Премьер-Лига</td>\n",
              "      <td>25 - 29</td>\n",
              "    </tr>\n",
              "    <tr>\n",
              "      <th>111</th>\n",
              "      <td>Арсенал</td>\n",
              "      <td>Премьер-Лига</td>\n",
              "      <td>25 - 29</td>\n",
              "    </tr>\n",
              "    <tr>\n",
              "      <th>125</th>\n",
              "      <td>Арсенал</td>\n",
              "      <td>Премьер-Лига</td>\n",
              "      <td>25 - 29</td>\n",
              "    </tr>\n",
              "    <tr>\n",
              "      <th>155</th>\n",
              "      <td>Арсенал</td>\n",
              "      <td>Премьер-Лига</td>\n",
              "      <td>25 - 29</td>\n",
              "    </tr>\n",
              "    <tr>\n",
              "      <th>204</th>\n",
              "      <td>Арсенал</td>\n",
              "      <td>Премьер-Лига</td>\n",
              "      <td>25 - 29</td>\n",
              "    </tr>\n",
              "  </tbody>\n",
              "</table>\n",
              "</div>\n",
              "      <button class=\"colab-df-convert\" onclick=\"convertToInteractive('df-46b1a932-294b-40b7-870d-029089f58904')\"\n",
              "              title=\"Convert this dataframe to an interactive table.\"\n",
              "              style=\"display:none;\">\n",
              "        \n",
              "  <svg xmlns=\"http://www.w3.org/2000/svg\" height=\"24px\"viewBox=\"0 0 24 24\"\n",
              "       width=\"24px\">\n",
              "    <path d=\"M0 0h24v24H0V0z\" fill=\"none\"/>\n",
              "    <path d=\"M18.56 5.44l.94 2.06.94-2.06 2.06-.94-2.06-.94-.94-2.06-.94 2.06-2.06.94zm-11 1L8.5 8.5l.94-2.06 2.06-.94-2.06-.94L8.5 2.5l-.94 2.06-2.06.94zm10 10l.94 2.06.94-2.06 2.06-.94-2.06-.94-.94-2.06-.94 2.06-2.06.94z\"/><path d=\"M17.41 7.96l-1.37-1.37c-.4-.4-.92-.59-1.43-.59-.52 0-1.04.2-1.43.59L10.3 9.45l-7.72 7.72c-.78.78-.78 2.05 0 2.83L4 21.41c.39.39.9.59 1.41.59.51 0 1.02-.2 1.41-.59l7.78-7.78 2.81-2.81c.8-.78.8-2.07 0-2.86zM5.41 20L4 18.59l7.72-7.72 1.47 1.35L5.41 20z\"/>\n",
              "  </svg>\n",
              "      </button>\n",
              "      \n",
              "  <style>\n",
              "    .colab-df-container {\n",
              "      display:flex;\n",
              "      flex-wrap:wrap;\n",
              "      gap: 12px;\n",
              "    }\n",
              "\n",
              "    .colab-df-convert {\n",
              "      background-color: #E8F0FE;\n",
              "      border: none;\n",
              "      border-radius: 50%;\n",
              "      cursor: pointer;\n",
              "      display: none;\n",
              "      fill: #1967D2;\n",
              "      height: 32px;\n",
              "      padding: 0 0 0 0;\n",
              "      width: 32px;\n",
              "    }\n",
              "\n",
              "    .colab-df-convert:hover {\n",
              "      background-color: #E2EBFA;\n",
              "      box-shadow: 0px 1px 2px rgba(60, 64, 67, 0.3), 0px 1px 3px 1px rgba(60, 64, 67, 0.15);\n",
              "      fill: #174EA6;\n",
              "    }\n",
              "\n",
              "    [theme=dark] .colab-df-convert {\n",
              "      background-color: #3B4455;\n",
              "      fill: #D2E3FC;\n",
              "    }\n",
              "\n",
              "    [theme=dark] .colab-df-convert:hover {\n",
              "      background-color: #434B5C;\n",
              "      box-shadow: 0px 1px 3px 1px rgba(0, 0, 0, 0.15);\n",
              "      filter: drop-shadow(0px 1px 2px rgba(0, 0, 0, 0.3));\n",
              "      fill: #FFFFFF;\n",
              "    }\n",
              "  </style>\n",
              "\n",
              "      <script>\n",
              "        const buttonEl =\n",
              "          document.querySelector('#df-46b1a932-294b-40b7-870d-029089f58904 button.colab-df-convert');\n",
              "        buttonEl.style.display =\n",
              "          google.colab.kernel.accessAllowed ? 'block' : 'none';\n",
              "\n",
              "        async function convertToInteractive(key) {\n",
              "          const element = document.querySelector('#df-46b1a932-294b-40b7-870d-029089f58904');\n",
              "          const dataTable =\n",
              "            await google.colab.kernel.invokeFunction('convertToInteractive',\n",
              "                                                     [key], {});\n",
              "          if (!dataTable) return;\n",
              "\n",
              "          const docLinkHtml = 'Like what you see? Visit the ' +\n",
              "            '<a target=\"_blank\" href=https://colab.research.google.com/notebooks/data_table.ipynb>data table notebook</a>'\n",
              "            + ' to learn more about interactive tables.';\n",
              "          element.innerHTML = '';\n",
              "          dataTable['output_type'] = 'display_data';\n",
              "          await google.colab.output.renderOutput(dataTable, element);\n",
              "          const docLink = document.createElement('div');\n",
              "          docLink.innerHTML = docLinkHtml;\n",
              "          element.appendChild(docLink);\n",
              "        }\n",
              "      </script>\n",
              "    </div>\n",
              "  </div>\n",
              "  "
            ]
          },
          "metadata": {},
          "execution_count": 58
        }
      ]
    },
    {
      "cell_type": "markdown",
      "source": [
        "**Цель исследования:** основываясь на общей статистике игроков, выявить, какие из параметров влияют на цену игрока и насколько.\n",
        "\n",
        "**Задачи исследования:**\n",
        "1. Проанализировать влияние клуба и лиги на стоимость игроков\n",
        "2. Изучить происхождение игроков, чтобы определить зависимость цены от стран.\n",
        "3. Сравнить цены игроков в зависимости от позиции на которой они играют.\n",
        "4. Изучить статистику голов и передач, чтобы выяснить влияние на клуб, в котором играет футболист.\n",
        "5. Выяснить влияние роста и возраста игрока на его цену."
      ],
      "metadata": {
        "id": "JTvOmUyu5QRp"
      }
    },
    {
      "cell_type": "markdown",
      "source": [
        "**Гипотезы:**\n",
        "1. Количество забитых голов зависит от позиции игрока. Построим наглядный график, показывающий зависимость количества голов от позиции. Переменные: Position, Goals\n",
        "2. Самые дорогие футболисты - форварды. Построим график для всех позиций, на котором отобразим зависимость с их ценой. Переменные: Position, Price\n",
        "3. Самые дорогие игроки находятся в Премьер лиге. Построим график, показывающий количество дорогих игроков в разных лигах(игрок считается дорогим если его цена больше 70 млн Евро). Переменные: Price, League\n",
        "4. У игроков с возрастом от 30 самая большая разница в текущей и максимальной цене. Построим сводную таблицу, где отобразим текущую и максимальную среднюю цену игроков разных возратсных категорий. Переменные: Age, Price, Max price\n",
        "5. Самые дорогие игроки - французы. Построим сводную таублицу, где изобразим среднюю цену на игрока в каждой стране. Переменные: Country, Price\n",
        "6. Средняя стоимость игроков с ростом 180 самая большая. Построим график, отражающий среднюю цену в зависимости от роста. Переменные: Height, Price\n",
        "7. Самая большая средняя цена на игрока в Манчестер Юнайтед среди клубов Премеьер лиги. Построим сводную таблицу, где отобразим соотношение цен и клубов. Переменные: League, Club, Price\n",
        "8. Самое большое среднее соотношение голов к сыгранным играм среди клубов Премьер Лиги у Манчестер сити. Построим сводную таблицу, с отношением голов к сыгранным играм и клубов. Переменные: League, Club, AvGoals\n",
        "9. Игроки с левого фланга в среднем дороже игроков с правого фланга. Найдем средние цены на игроков левого и правого фланга. Переменные: Price, Position\n",
        "10. Игроки с меньшим ростом имеют больше голевых передач. Построим график, на котором отобразим соотношение роста к количеству передач. Переменные: Height, Asists"
      ],
      "metadata": {
        "id": "iV10lc4i-GRE"
      }
    },
    {
      "cell_type": "markdown",
      "source": [
        "1. Количество забитых голов зависит от позиции игрока."
      ],
      "metadata": {
        "id": "VyzFwaszA5au"
      }
    },
    {
      "cell_type": "code",
      "source": [
        "df.groupby(['Position'])[['Goals']].mean().plot(kind='bar', title = 'Зависимость количества голов от позиции футболиста', xlabel='Позиция', ylabel='Количество голов')"
      ],
      "metadata": {
        "colab": {
          "base_uri": "https://localhost:8080/",
          "height": 325
        },
        "id": "hUIx5pVAMB3Y",
        "outputId": "1ee15fb6-8e76-46df-f2a9-84fae799c31e"
      },
      "execution_count": null,
      "outputs": [
        {
          "output_type": "execute_result",
          "data": {
            "text/plain": [
              "<matplotlib.axes._subplots.AxesSubplot at 0x7f88178a7b80>"
            ]
          },
          "metadata": {},
          "execution_count": 59
        },
        {
          "output_type": "display_data",
          "data": {
            "text/plain": [
              "<Figure size 432x288 with 1 Axes>"
            ],
            "image/png": "[encoded data removed]"
          },
          "metadata": {
            "needs_background": "light"
          }
        }
      ]
    },
    {
      "cell_type": "markdown",
      "source": [
        "Из графика видно, что позиция игрока напрямую влияет на количество забитых им мячей. Так, больше всего голов забивают форварды, меньше всех - вратари."
      ],
      "metadata": {
        "id": "YEyu5jLpfYKB"
      }
    },
    {
      "cell_type": "markdown",
      "source": [
        "2. Самые дорогие футболисты - форварды."
      ],
      "metadata": {
        "id": "Z-FfzpXwBTAP"
      }
    },
    {
      "cell_type": "code",
      "source": [
        "df.groupby(['Position'])[['Price']].mean().plot(kind='bar', title = 'Зависимость средней цены игрока от его позиции', xlabel='Позиция', ylabel='Средняя цена игрока')"
      ],
      "metadata": {
        "colab": {
          "base_uri": "https://localhost:8080/",
          "height": 325
        },
        "id": "1uZ-p7fjfX3U",
        "outputId": "cc997046-1742-4bc8-adf8-250a34588635"
      },
      "execution_count": null,
      "outputs": [
        {
          "output_type": "execute_result",
          "data": {
            "text/plain": [
              "<matplotlib.axes._subplots.AxesSubplot at 0x7f88178b4490>"
            ]
          },
          "metadata": {},
          "execution_count": 60
        },
        {
          "output_type": "display_data",
          "data": {
            "text/plain": [
              "<Figure size 432x288 with 1 Axes>"
            ],
            "image/png": "[encoded data removed]"
          },
          "metadata": {
            "needs_background": "light"
          }
        }
      ]
    },
    {
      "cell_type": "markdown",
      "source": [
        "Из графика видно, что в среднем самыми дорогими игроками являются левые вингеры, самыми дешевыми - левые полузащитники"
      ],
      "metadata": {
        "id": "EnSaHt-OlxK0"
      }
    },
    {
      "cell_type": "markdown",
      "source": [
        "3. Самые дорогие игроки находятся в Премьер лиге."
      ],
      "metadata": {
        "id": "3wJtPtIYCmWM"
      }
    },
    {
      "cell_type": "code",
      "source": [
        "df[df['Price'] > 70].groupby(['League']).size().plot(kind='pie', title = 'Количество дорогих игроков в лигах', ylabel='')"
      ],
      "metadata": {
        "colab": {
          "base_uri": "https://localhost:8080/",
          "height": 281
        },
        "id": "4aJMourOlw8B",
        "outputId": "fbc7fa47-2aac-49e5-8bde-fab936b9bf44"
      },
      "execution_count": null,
      "outputs": [
        {
          "output_type": "execute_result",
          "data": {
            "text/plain": [
              "<matplotlib.axes._subplots.AxesSubplot at 0x7f88178bfc10>"
            ]
          },
          "metadata": {},
          "execution_count": 61
        },
        {
          "output_type": "display_data",
          "data": {
            "text/plain": [
              "<Figure size 432x288 with 1 Axes>"
            ],
            "image/png": "[encoded data removed]"
          },
          "metadata": {}
        }
      ]
    },
    {
      "cell_type": "markdown",
      "source": [
        "Из графика очевидно, что большинство дорогих игроков находится в Премьер лиге."
      ],
      "metadata": {
        "id": "wUoLjCpOoFeg"
      }
    },
    {
      "cell_type": "markdown",
      "source": [
        "4. У игроков с возрастом от 30 самая большая разница в текущей и максимальной цене."
      ],
      "metadata": {
        "id": "B4RM--1zDjGm"
      }
    },
    {
      "cell_type": "code",
      "source": [
        "df.groupby(['Age'])[['Price', 'Max price']].mean()"
      ],
      "metadata": {
        "colab": {
          "base_uri": "https://localhost:8080/",
          "height": 206
        },
        "id": "TL2X4AoupVeB",
        "outputId": "356c06ed-cd12-4ffa-f606-258848503774"
      },
      "execution_count": null,
      "outputs": [
        {
          "output_type": "execute_result",
          "data": {
            "text/plain": [
              "             Price  Max price\n",
              "Age                          \n",
              "15 - 19  44.307692  45.000000\n",
              "20 - 24  36.891089  40.405941\n",
              "25 - 29  33.983539  44.880658\n",
              "30 - 34  37.179487  74.435897"
            ],
            "text/html": [
              "\n",
              "  <div id=\"df-94863db8-c634-4537-8685-ca23597fbab5\">\n",
              "    <div class=\"colab-df-container\">\n",
              "      <div>\n",
              "<style scoped>\n",
              "    .dataframe tbody tr th:only-of-type {\n",
              "        vertical-align: middle;\n",
              "    }\n",
              "\n",
              "    .dataframe tbody tr th {\n",
              "        vertical-align: top;\n",
              "    }\n",
              "\n",
              "    .dataframe thead th {\n",
              "        text-align: right;\n",
              "    }\n",
              "</style>\n",
              "<table border=\"1\" class=\"dataframe\">\n",
              "  <thead>\n",
              "    <tr style=\"text-align: right;\">\n",
              "      <th></th>\n",
              "      <th>Price</th>\n",
              "      <th>Max price</th>\n",
              "    </tr>\n",
              "    <tr>\n",
              "      <th>Age</th>\n",
              "      <th></th>\n",
              "      <th></th>\n",
              "    </tr>\n",
              "  </thead>\n",
              "  <tbody>\n",
              "    <tr>\n",
              "      <th>15 - 19</th>\n",
              "      <td>44.307692</td>\n",
              "      <td>45.000000</td>\n",
              "    </tr>\n",
              "    <tr>\n",
              "      <th>20 - 24</th>\n",
              "      <td>36.891089</td>\n",
              "      <td>40.405941</td>\n",
              "    </tr>\n",
              "    <tr>\n",
              "      <th>25 - 29</th>\n",
              "      <td>33.983539</td>\n",
              "      <td>44.880658</td>\n",
              "    </tr>\n",
              "    <tr>\n",
              "      <th>30 - 34</th>\n",
              "      <td>37.179487</td>\n",
              "      <td>74.435897</td>\n",
              "    </tr>\n",
              "  </tbody>\n",
              "</table>\n",
              "</div>\n",
              "      <button class=\"colab-df-convert\" onclick=\"convertToInteractive('df-94863db8-c634-4537-8685-ca23597fbab5')\"\n",
              "              title=\"Convert this dataframe to an interactive table.\"\n",
              "              style=\"display:none;\">\n",
              "        \n",
              "  <svg xmlns=\"http://www.w3.org/2000/svg\" height=\"24px\"viewBox=\"0 0 24 24\"\n",
              "       width=\"24px\">\n",
              "    <path d=\"M0 0h24v24H0V0z\" fill=\"none\"/>\n",
              "    <path d=\"M18.56 5.44l.94 2.06.94-2.06 2.06-.94-2.06-.94-.94-2.06-.94 2.06-2.06.94zm-11 1L8.5 8.5l.94-2.06 2.06-.94-2.06-.94L8.5 2.5l-.94 2.06-2.06.94zm10 10l.94 2.06.94-2.06 2.06-.94-2.06-.94-.94-2.06-.94 2.06-2.06.94z\"/><path d=\"M17.41 7.96l-1.37-1.37c-.4-.4-.92-.59-1.43-.59-.52 0-1.04.2-1.43.59L10.3 9.45l-7.72 7.72c-.78.78-.78 2.05 0 2.83L4 21.41c.39.39.9.59 1.41.59.51 0 1.02-.2 1.41-.59l7.78-7.78 2.81-2.81c.8-.78.8-2.07 0-2.86zM5.41 20L4 18.59l7.72-7.72 1.47 1.35L5.41 20z\"/>\n",
              "  </svg>\n",
              "      </button>\n",
              "      \n",
              "  <style>\n",
              "    .colab-df-container {\n",
              "      display:flex;\n",
              "      flex-wrap:wrap;\n",
              "      gap: 12px;\n",
              "    }\n",
              "\n",
              "    .colab-df-convert {\n",
              "      background-color: #E8F0FE;\n",
              "      border: none;\n",
              "      border-radius: 50%;\n",
              "      cursor: pointer;\n",
              "      display: none;\n",
              "      fill: #1967D2;\n",
              "      height: 32px;\n",
              "      padding: 0 0 0 0;\n",
              "      width: 32px;\n",
              "    }\n",
              "\n",
              "    .colab-df-convert:hover {\n",
              "      background-color: #E2EBFA;\n",
              "      box-shadow: 0px 1px 2px rgba(60, 64, 67, 0.3), 0px 1px 3px 1px rgba(60, 64, 67, 0.15);\n",
              "      fill: #174EA6;\n",
              "    }\n",
              "\n",
              "    [theme=dark] .colab-df-convert {\n",
              "      background-color: #3B4455;\n",
              "      fill: #D2E3FC;\n",
              "    }\n",
              "\n",
              "    [theme=dark] .colab-df-convert:hover {\n",
              "      background-color: #434B5C;\n",
              "      box-shadow: 0px 1px 3px 1px rgba(0, 0, 0, 0.15);\n",
              "      filter: drop-shadow(0px 1px 2px rgba(0, 0, 0, 0.3));\n",
              "      fill: #FFFFFF;\n",
              "    }\n",
              "  </style>\n",
              "\n",
              "      <script>\n",
              "        const buttonEl =\n",
              "          document.querySelector('#df-94863db8-c634-4537-8685-ca23597fbab5 button.colab-df-convert');\n",
              "        buttonEl.style.display =\n",
              "          google.colab.kernel.accessAllowed ? 'block' : 'none';\n",
              "\n",
              "        async function convertToInteractive(key) {\n",
              "          const element = document.querySelector('#df-94863db8-c634-4537-8685-ca23597fbab5');\n",
              "          const dataTable =\n",
              "            await google.colab.kernel.invokeFunction('convertToInteractive',\n",
              "                                                     [key], {});\n",
              "          if (!dataTable) return;\n",
              "\n",
              "          const docLinkHtml = 'Like what you see? Visit the ' +\n",
              "            '<a target=\"_blank\" href=https://colab.research.google.com/notebooks/data_table.ipynb>data table notebook</a>'\n",
              "            + ' to learn more about interactive tables.';\n",
              "          element.innerHTML = '';\n",
              "          dataTable['output_type'] = 'display_data';\n",
              "          await google.colab.output.renderOutput(dataTable, element);\n",
              "          const docLink = document.createElement('div');\n",
              "          docLink.innerHTML = docLinkHtml;\n",
              "          element.appendChild(docLink);\n",
              "        }\n",
              "      </script>\n",
              "    </div>\n",
              "  </div>\n",
              "  "
            ]
          },
          "metadata": {},
          "execution_count": 62
        }
      ]
    },
    {
      "cell_type": "markdown",
      "source": [
        "Из графика следует, что у возрастной группы 30-34 наблюдается самая большая разница между максимальной и текущей ценой, в то время как у 15-19 она практически минимальна"
      ],
      "metadata": {
        "id": "V3ZLLb5NuK94"
      }
    },
    {
      "cell_type": "markdown",
      "source": [
        "5. Самые дорогие игроки - французы."
      ],
      "metadata": {
        "id": "kq2om07uFMdL"
      }
    },
    {
      "cell_type": "code",
      "source": [
        "df.groupby(['Country'])[['Price']].mean()"
      ],
      "metadata": {
        "colab": {
          "base_uri": "https://localhost:8080/",
          "height": 1000
        },
        "id": "jbtKUCWrvTeA",
        "outputId": "c7e3d911-f6e7-4e05-b0b4-55b96b9c39d2"
      },
      "execution_count": null,
      "outputs": [
        {
          "output_type": "execute_result",
          "data": {
            "text/plain": [
              "                                       Price\n",
              "Country                                     \n",
              "Австрия                            25.375000\n",
              "Албания                            30.000000\n",
              "Алжир                              26.800000\n",
              "Англия                             38.318182\n",
              "Аргентина                          38.222222\n",
              "Бельгия                            35.214286\n",
              "Бразилия                           38.704545\n",
              "Буркина-Фасо                       30.000000\n",
              "Венгрия                            35.000000\n",
              "Гана                               23.800000\n",
              "Гвинея                             20.000000\n",
              "Германия                           41.173913\n",
              "Греция                             18.000000\n",
              "Грузия                             42.500000\n",
              "Дания                              30.000000\n",
              "Египет                             80.000000\n",
              "Замбия                             20.000000\n",
              "Израиль                            18.000000\n",
              "Иран                               20.000000\n",
              "Ирландия                           22.000000\n",
              "Испания                            35.146341\n",
              "Италия                             32.500000\n",
              "Камерун                            33.000000\n",
              "Канада                             57.500000\n",
              "Колумбия                           35.500000\n",
              "Косово                             25.000000\n",
              "Кот-д'Ивуар                        28.875000\n",
              "Мали                               29.000000\n",
              "Марокко                            33.600000\n",
              "Мексика                            31.500000\n",
              "Мозамбик                           25.000000\n",
              "Нигерия                            28.875000\n",
              "Нидерланды                         33.578947\n",
              "Норвегия                          115.000000\n",
              "Парагвай                           20.000000\n",
              "Польша                             35.666667\n",
              "Португалия                         37.875000\n",
              "Россия                             22.000000\n",
              "Северная Македония                 23.000000\n",
              "Сенегал                            35.500000\n",
              "Сербия                             38.666667\n",
              "Словакия                           45.000000\n",
              "Словения                           30.000000\n",
              "Соединенные Штаты Америки          29.800000\n",
              "Турция                             26.800000\n",
              "Украина                            29.000000\n",
              "Уругвай                            49.571429\n",
              "Уэльс                              19.333333\n",
              "Франция                            37.129032\n",
              "Хорватия                           30.555556\n",
              "Центральноафриканская Республика   20.000000\n",
              "Чехия                              41.500000\n",
              "Швейцария                          23.750000\n",
              "Швеция                             41.666667\n",
              "Шотландия                          30.833333\n",
              "Эквадор                            27.666667\n",
              "Южная Корея                        52.500000\n",
              "Ямайка                             25.000000\n",
              "Япония                             27.500000"
            ],
            "text/html": [
              "\n",
              "  <div id=\"df-c1c1cacc-dade-4dc5-b4b3-46700d30af35\">\n",
              "    <div class=\"colab-df-container\">\n",
              "      <div>\n",
              "<style scoped>\n",
              "    .dataframe tbody tr th:only-of-type {\n",
              "        vertical-align: middle;\n",
              "    }\n",
              "\n",
              "    .dataframe tbody tr th {\n",
              "        vertical-align: top;\n",
              "    }\n",
              "\n",
              "    .dataframe thead th {\n",
              "        text-align: right;\n",
              "    }\n",
              "</style>\n",
              "<table border=\"1\" class=\"dataframe\">\n",
              "  <thead>\n",
              "    <tr style=\"text-align: right;\">\n",
              "      <th></th>\n",
              "      <th>Price</th>\n",
              "    </tr>\n",
              "    <tr>\n",
              "      <th>Country</th>\n",
              "      <th></th>\n",
              "    </tr>\n",
              "  </thead>\n",
              "  <tbody>\n",
              "    <tr>\n",
              "      <th>Австрия</th>\n",
              "      <td>25.375000</td>\n",
              "    </tr>\n",
              "    <tr>\n",
              "      <th>Албания</th>\n",
              "      <td>30.000000</td>\n",
              "    </tr>\n",
              "    <tr>\n",
              "      <th>Алжир</th>\n",
              "      <td>26.800000</td>\n",
              "    </tr>\n",
              "    <tr>\n",
              "      <th>Англия</th>\n",
              "      <td>38.318182</td>\n",
              "    </tr>\n",
              "    <tr>\n",
              "      <th>Аргентина</th>\n",
              "      <td>38.222222</td>\n",
              "    </tr>\n",
              "    <tr>\n",
              "      <th>Бельгия</th>\n",
              "      <td>35.214286</td>\n",
              "    </tr>\n",
              "    <tr>\n",
              "      <th>Бразилия</th>\n",
              "      <td>38.704545</td>\n",
              "    </tr>\n",
              "    <tr>\n",
              "      <th>Буркина-Фасо</th>\n",
              "      <td>30.000000</td>\n",
              "    </tr>\n",
              "    <tr>\n",
              "      <th>Венгрия</th>\n",
              "      <td>35.000000</td>\n",
              "    </tr>\n",
              "    <tr>\n",
              "      <th>Гана</th>\n",
              "      <td>23.800000</td>\n",
              "    </tr>\n",
              "    <tr>\n",
              "      <th>Гвинея</th>\n",
              "      <td>20.000000</td>\n",
              "    </tr>\n",
              "    <tr>\n",
              "      <th>Германия</th>\n",
              "      <td>41.173913</td>\n",
              "    </tr>\n",
              "    <tr>\n",
              "      <th>Греция</th>\n",
              "      <td>18.000000</td>\n",
              "    </tr>\n",
              "    <tr>\n",
              "      <th>Грузия</th>\n",
              "      <td>42.500000</td>\n",
              "    </tr>\n",
              "    <tr>\n",
              "      <th>Дания</th>\n",
              "      <td>30.000000</td>\n",
              "    </tr>\n",
              "    <tr>\n",
              "      <th>Египет</th>\n",
              "      <td>80.000000</td>\n",
              "    </tr>\n",
              "    <tr>\n",
              "      <th>Замбия</th>\n",
              "      <td>20.000000</td>\n",
              "    </tr>\n",
              "    <tr>\n",
              "      <th>Израиль</th>\n",
              "      <td>18.000000</td>\n",
              "    </tr>\n",
              "    <tr>\n",
              "      <th>Иран</th>\n",
              "      <td>20.000000</td>\n",
              "    </tr>\n",
              "    <tr>\n",
              "      <th>Ирландия</th>\n",
              "      <td>22.000000</td>\n",
              "    </tr>\n",
              "    <tr>\n",
              "      <th>Испания</th>\n",
              "      <td>35.146341</td>\n",
              "    </tr>\n",
              "    <tr>\n",
              "      <th>Италия</th>\n",
              "      <td>32.500000</td>\n",
              "    </tr>\n",
              "    <tr>\n",
              "      <th>Камерун</th>\n",
              "      <td>33.000000</td>\n",
              "    </tr>\n",
              "    <tr>\n",
              "      <th>Канада</th>\n",
              "      <td>57.500000</td>\n",
              "    </tr>\n",
              "    <tr>\n",
              "      <th>Колумбия</th>\n",
              "      <td>35.500000</td>\n",
              "    </tr>\n",
              "    <tr>\n",
              "      <th>Косово</th>\n",
              "      <td>25.000000</td>\n",
              "    </tr>\n",
              "    <tr>\n",
              "      <th>Кот-д'Ивуар</th>\n",
              "      <td>28.875000</td>\n",
              "    </tr>\n",
              "    <tr>\n",
              "      <th>Мали</th>\n",
              "      <td>29.000000</td>\n",
              "    </tr>\n",
              "    <tr>\n",
              "      <th>Марокко</th>\n",
              "      <td>33.600000</td>\n",
              "    </tr>\n",
              "    <tr>\n",
              "      <th>Мексика</th>\n",
              "      <td>31.500000</td>\n",
              "    </tr>\n",
              "    <tr>\n",
              "      <th>Мозамбик</th>\n",
              "      <td>25.000000</td>\n",
              "    </tr>\n",
              "    <tr>\n",
              "      <th>Нигерия</th>\n",
              "      <td>28.875000</td>\n",
              "    </tr>\n",
              "    <tr>\n",
              "      <th>Нидерланды</th>\n",
              "      <td>33.578947</td>\n",
              "    </tr>\n",
              "    <tr>\n",
              "      <th>Норвегия</th>\n",
              "      <td>115.000000</td>\n",
              "    </tr>\n",
              "    <tr>\n",
              "      <th>Парагвай</th>\n",
              "      <td>20.000000</td>\n",
              "    </tr>\n",
              "    <tr>\n",
              "      <th>Польша</th>\n",
              "      <td>35.666667</td>\n",
              "    </tr>\n",
              "    <tr>\n",
              "      <th>Португалия</th>\n",
              "      <td>37.875000</td>\n",
              "    </tr>\n",
              "    <tr>\n",
              "      <th>Россия</th>\n",
              "      <td>22.000000</td>\n",
              "    </tr>\n",
              "    <tr>\n",
              "      <th>Северная Македония</th>\n",
              "      <td>23.000000</td>\n",
              "    </tr>\n",
              "    <tr>\n",
              "      <th>Сенегал</th>\n",
              "      <td>35.500000</td>\n",
              "    </tr>\n",
              "    <tr>\n",
              "      <th>Сербия</th>\n",
              "      <td>38.666667</td>\n",
              "    </tr>\n",
              "    <tr>\n",
              "      <th>Словакия</th>\n",
              "      <td>45.000000</td>\n",
              "    </tr>\n",
              "    <tr>\n",
              "      <th>Словения</th>\n",
              "      <td>30.000000</td>\n",
              "    </tr>\n",
              "    <tr>\n",
              "      <th>Соединенные Штаты Америки</th>\n",
              "      <td>29.800000</td>\n",
              "    </tr>\n",
              "    <tr>\n",
              "      <th>Турция</th>\n",
              "      <td>26.800000</td>\n",
              "    </tr>\n",
              "    <tr>\n",
              "      <th>Украина</th>\n",
              "      <td>29.000000</td>\n",
              "    </tr>\n",
              "    <tr>\n",
              "      <th>Уругвай</th>\n",
              "      <td>49.571429</td>\n",
              "    </tr>\n",
              "    <tr>\n",
              "      <th>Уэльс</th>\n",
              "      <td>19.333333</td>\n",
              "    </tr>\n",
              "    <tr>\n",
              "      <th>Франция</th>\n",
              "      <td>37.129032</td>\n",
              "    </tr>\n",
              "    <tr>\n",
              "      <th>Хорватия</th>\n",
              "      <td>30.555556</td>\n",
              "    </tr>\n",
              "    <tr>\n",
              "      <th>Центральноафриканская Республика</th>\n",
              "      <td>20.000000</td>\n",
              "    </tr>\n",
              "    <tr>\n",
              "      <th>Чехия</th>\n",
              "      <td>41.500000</td>\n",
              "    </tr>\n",
              "    <tr>\n",
              "      <th>Швейцария</th>\n",
              "      <td>23.750000</td>\n",
              "    </tr>\n",
              "    <tr>\n",
              "      <th>Швеция</th>\n",
              "      <td>41.666667</td>\n",
              "    </tr>\n",
              "    <tr>\n",
              "      <th>Шотландия</th>\n",
              "      <td>30.833333</td>\n",
              "    </tr>\n",
              "    <tr>\n",
              "      <th>Эквадор</th>\n",
              "      <td>27.666667</td>\n",
              "    </tr>\n",
              "    <tr>\n",
              "      <th>Южная Корея</th>\n",
              "      <td>52.500000</td>\n",
              "    </tr>\n",
              "    <tr>\n",
              "      <th>Ямайка</th>\n",
              "      <td>25.000000</td>\n",
              "    </tr>\n",
              "    <tr>\n",
              "      <th>Япония</th>\n",
              "      <td>27.500000</td>\n",
              "    </tr>\n",
              "  </tbody>\n",
              "</table>\n",
              "</div>\n",
              "      <button class=\"colab-df-convert\" onclick=\"convertToInteractive('df-c1c1cacc-dade-4dc5-b4b3-46700d30af35')\"\n",
              "              title=\"Convert this dataframe to an interactive table.\"\n",
              "              style=\"display:none;\">\n",
              "        \n",
              "  <svg xmlns=\"http://www.w3.org/2000/svg\" height=\"24px\"viewBox=\"0 0 24 24\"\n",
              "       width=\"24px\">\n",
              "    <path d=\"M0 0h24v24H0V0z\" fill=\"none\"/>\n",
              "    <path d=\"M18.56 5.44l.94 2.06.94-2.06 2.06-.94-2.06-.94-.94-2.06-.94 2.06-2.06.94zm-11 1L8.5 8.5l.94-2.06 2.06-.94-2.06-.94L8.5 2.5l-.94 2.06-2.06.94zm10 10l.94 2.06.94-2.06 2.06-.94-2.06-.94-.94-2.06-.94 2.06-2.06.94z\"/><path d=\"M17.41 7.96l-1.37-1.37c-.4-.4-.92-.59-1.43-.59-.52 0-1.04.2-1.43.59L10.3 9.45l-7.72 7.72c-.78.78-.78 2.05 0 2.83L4 21.41c.39.39.9.59 1.41.59.51 0 1.02-.2 1.41-.59l7.78-7.78 2.81-2.81c.8-.78.8-2.07 0-2.86zM5.41 20L4 18.59l7.72-7.72 1.47 1.35L5.41 20z\"/>\n",
              "  </svg>\n",
              "      </button>\n",
              "      \n",
              "  <style>\n",
              "    .colab-df-container {\n",
              "      display:flex;\n",
              "      flex-wrap:wrap;\n",
              "      gap: 12px;\n",
              "    }\n",
              "\n",
              "    .colab-df-convert {\n",
              "      background-color: #E8F0FE;\n",
              "      border: none;\n",
              "      border-radius: 50%;\n",
              "      cursor: pointer;\n",
              "      display: none;\n",
              "      fill: #1967D2;\n",
              "      height: 32px;\n",
              "      padding: 0 0 0 0;\n",
              "      width: 32px;\n",
              "    }\n",
              "\n",
              "    .colab-df-convert:hover {\n",
              "      background-color: #E2EBFA;\n",
              "      box-shadow: 0px 1px 2px rgba(60, 64, 67, 0.3), 0px 1px 3px 1px rgba(60, 64, 67, 0.15);\n",
              "      fill: #174EA6;\n",
              "    }\n",
              "\n",
              "    [theme=dark] .colab-df-convert {\n",
              "      background-color: #3B4455;\n",
              "      fill: #D2E3FC;\n",
              "    }\n",
              "\n",
              "    [theme=dark] .colab-df-convert:hover {\n",
              "      background-color: #434B5C;\n",
              "      box-shadow: 0px 1px 3px 1px rgba(0, 0, 0, 0.15);\n",
              "      filter: drop-shadow(0px 1px 2px rgba(0, 0, 0, 0.3));\n",
              "      fill: #FFFFFF;\n",
              "    }\n",
              "  </style>\n",
              "\n",
              "      <script>\n",
              "        const buttonEl =\n",
              "          document.querySelector('#df-c1c1cacc-dade-4dc5-b4b3-46700d30af35 button.colab-df-convert');\n",
              "        buttonEl.style.display =\n",
              "          google.colab.kernel.accessAllowed ? 'block' : 'none';\n",
              "\n",
              "        async function convertToInteractive(key) {\n",
              "          const element = document.querySelector('#df-c1c1cacc-dade-4dc5-b4b3-46700d30af35');\n",
              "          const dataTable =\n",
              "            await google.colab.kernel.invokeFunction('convertToInteractive',\n",
              "                                                     [key], {});\n",
              "          if (!dataTable) return;\n",
              "\n",
              "          const docLinkHtml = 'Like what you see? Visit the ' +\n",
              "            '<a target=\"_blank\" href=https://colab.research.google.com/notebooks/data_table.ipynb>data table notebook</a>'\n",
              "            + ' to learn more about interactive tables.';\n",
              "          element.innerHTML = '';\n",
              "          dataTable['output_type'] = 'display_data';\n",
              "          await google.colab.output.renderOutput(dataTable, element);\n",
              "          const docLink = document.createElement('div');\n",
              "          docLink.innerHTML = docLinkHtml;\n",
              "          element.appendChild(docLink);\n",
              "        }\n",
              "      </script>\n",
              "    </div>\n",
              "  </div>\n",
              "  "
            ]
          },
          "metadata": {},
          "execution_count": 63
        }
      ]
    },
    {
      "cell_type": "markdown",
      "source": [
        "В данном случае самыми дорогими игроками являются Норвежцы. Но для более точного ответа требуется датасет с большим количеством данных"
      ],
      "metadata": {
        "id": "BUGJPVDaw9BN"
      }
    },
    {
      "cell_type": "markdown",
      "source": [
        "6. Средняя стоимость игроков с ростом 180 самая большая."
      ],
      "metadata": {
        "id": "2-zouVlsHlvL"
      }
    },
    {
      "cell_type": "code",
      "source": [
        "df.groupby(['Height'])[['Price']].mean().plot(title='Средняя цена футболистов от их роста', xlabel='Рост', ylabel='Цена')"
      ],
      "metadata": {
        "colab": {
          "base_uri": "https://localhost:8080/",
          "height": 312
        },
        "id": "Eivto7DPw80K",
        "outputId": "95979a0a-e068-4503-a3a0-f6684ce205ae"
      },
      "execution_count": null,
      "outputs": [
        {
          "output_type": "execute_result",
          "data": {
            "text/plain": [
              "<matplotlib.axes._subplots.AxesSubplot at 0x7f8818820460>"
            ]
          },
          "metadata": {},
          "execution_count": 64
        },
        {
          "output_type": "display_data",
          "data": {
            "text/plain": [
              "<Figure size 432x288 with 1 Axes>"
            ],
            "image/png": "[encoded data removed]"
          },
          "metadata": {
            "needs_background": "light"
          }
        }
      ]
    },
    {
      "cell_type": "markdown",
      "source": [
        "Самая высокая средняя цена наблюдается у футболистов с ростом 193"
      ],
      "metadata": {
        "id": "Ucx6LLDXzfGa"
      }
    },
    {
      "cell_type": "markdown",
      "source": [
        "7. Самая большая средняя цена на игрока в Манчестер Юнайтед среди клубов Премьер лиги."
      ],
      "metadata": {
        "id": "YIE4OGabIDd1"
      }
    },
    {
      "cell_type": "code",
      "source": [
        "df[df['League'] == 'Премьер-Лига'].groupby(['Club'])[['Price']].mean()"
      ],
      "metadata": {
        "colab": {
          "base_uri": "https://localhost:8080/",
          "height": 708
        },
        "id": "CZ5XGEJ8zWC4",
        "outputId": "156a6ec2-3acd-4f3a-e8ab-edfcba9e0f4c"
      },
      "execution_count": null,
      "outputs": [
        {
          "output_type": "execute_result",
          "data": {
            "text/plain": [
              "                    Price\n",
              "Club                     \n",
              "Арсенал         42.444444\n",
              "Астон Вилла     26.266667\n",
              "Борнмут         22.000000\n",
              "Брайтон         30.800000\n",
              "Брентфорд       27.000000\n",
              "Вест Хэм        36.800000\n",
              "Вулверхэмптон   25.900000\n",
              "Кристал Пэлас   29.857143\n",
              "Лестер          29.333333\n",
              "Ливерпуль       44.526316\n",
              "Лидс            23.333333\n",
              "Манчестер Сити  61.750000\n",
              "Манчестер Юн.   37.500000\n",
              "Ноттингем       21.428571\n",
              "Ньюкасл         36.888889\n",
              "Саутгемптон     23.250000\n",
              "Тоттенхэм       41.933333\n",
              "Фулхэм          24.666667\n",
              "Челси           42.954545\n",
              "Эвертон         24.222222"
            ],
            "text/html": [
              "\n",
              "  <div id=\"df-2494eed4-d4be-4209-a272-9bd0a060118f\">\n",
              "    <div class=\"colab-df-container\">\n",
              "      <div>\n",
              "<style scoped>\n",
              "    .dataframe tbody tr th:only-of-type {\n",
              "        vertical-align: middle;\n",
              "    }\n",
              "\n",
              "    .dataframe tbody tr th {\n",
              "        vertical-align: top;\n",
              "    }\n",
              "\n",
              "    .dataframe thead th {\n",
              "        text-align: right;\n",
              "    }\n",
              "</style>\n",
              "<table border=\"1\" class=\"dataframe\">\n",
              "  <thead>\n",
              "    <tr style=\"text-align: right;\">\n",
              "      <th></th>\n",
              "      <th>Price</th>\n",
              "    </tr>\n",
              "    <tr>\n",
              "      <th>Club</th>\n",
              "      <th></th>\n",
              "    </tr>\n",
              "  </thead>\n",
              "  <tbody>\n",
              "    <tr>\n",
              "      <th>Арсенал</th>\n",
              "      <td>42.444444</td>\n",
              "    </tr>\n",
              "    <tr>\n",
              "      <th>Астон Вилла</th>\n",
              "      <td>26.266667</td>\n",
              "    </tr>\n",
              "    <tr>\n",
              "      <th>Борнмут</th>\n",
              "      <td>22.000000</td>\n",
              "    </tr>\n",
              "    <tr>\n",
              "      <th>Брайтон</th>\n",
              "      <td>30.800000</td>\n",
              "    </tr>\n",
              "    <tr>\n",
              "      <th>Брентфорд</th>\n",
              "      <td>27.000000</td>\n",
              "    </tr>\n",
              "    <tr>\n",
              "      <th>Вест Хэм</th>\n",
              "      <td>36.800000</td>\n",
              "    </tr>\n",
              "    <tr>\n",
              "      <th>Вулверхэмптон</th>\n",
              "      <td>25.900000</td>\n",
              "    </tr>\n",
              "    <tr>\n",
              "      <th>Кристал Пэлас</th>\n",
              "      <td>29.857143</td>\n",
              "    </tr>\n",
              "    <tr>\n",
              "      <th>Лестер</th>\n",
              "      <td>29.333333</td>\n",
              "    </tr>\n",
              "    <tr>\n",
              "      <th>Ливерпуль</th>\n",
              "      <td>44.526316</td>\n",
              "    </tr>\n",
              "    <tr>\n",
              "      <th>Лидс</th>\n",
              "      <td>23.333333</td>\n",
              "    </tr>\n",
              "    <tr>\n",
              "      <th>Манчестер Сити</th>\n",
              "      <td>61.750000</td>\n",
              "    </tr>\n",
              "    <tr>\n",
              "      <th>Манчестер Юн.</th>\n",
              "      <td>37.500000</td>\n",
              "    </tr>\n",
              "    <tr>\n",
              "      <th>Ноттингем</th>\n",
              "      <td>21.428571</td>\n",
              "    </tr>\n",
              "    <tr>\n",
              "      <th>Ньюкасл</th>\n",
              "      <td>36.888889</td>\n",
              "    </tr>\n",
              "    <tr>\n",
              "      <th>Саутгемптон</th>\n",
              "      <td>23.250000</td>\n",
              "    </tr>\n",
              "    <tr>\n",
              "      <th>Тоттенхэм</th>\n",
              "      <td>41.933333</td>\n",
              "    </tr>\n",
              "    <tr>\n",
              "      <th>Фулхэм</th>\n",
              "      <td>24.666667</td>\n",
              "    </tr>\n",
              "    <tr>\n",
              "      <th>Челси</th>\n",
              "      <td>42.954545</td>\n",
              "    </tr>\n",
              "    <tr>\n",
              "      <th>Эвертон</th>\n",
              "      <td>24.222222</td>\n",
              "    </tr>\n",
              "  </tbody>\n",
              "</table>\n",
              "</div>\n",
              "      <button class=\"colab-df-convert\" onclick=\"convertToInteractive('df-2494eed4-d4be-4209-a272-9bd0a060118f')\"\n",
              "              title=\"Convert this dataframe to an interactive table.\"\n",
              "              style=\"display:none;\">\n",
              "        \n",
              "  <svg xmlns=\"http://www.w3.org/2000/svg\" height=\"24px\"viewBox=\"0 0 24 24\"\n",
              "       width=\"24px\">\n",
              "    <path d=\"M0 0h24v24H0V0z\" fill=\"none\"/>\n",
              "    <path d=\"M18.56 5.44l.94 2.06.94-2.06 2.06-.94-2.06-.94-.94-2.06-.94 2.06-2.06.94zm-11 1L8.5 8.5l.94-2.06 2.06-.94-2.06-.94L8.5 2.5l-.94 2.06-2.06.94zm10 10l.94 2.06.94-2.06 2.06-.94-2.06-.94-.94-2.06-.94 2.06-2.06.94z\"/><path d=\"M17.41 7.96l-1.37-1.37c-.4-.4-.92-.59-1.43-.59-.52 0-1.04.2-1.43.59L10.3 9.45l-7.72 7.72c-.78.78-.78 2.05 0 2.83L4 21.41c.39.39.9.59 1.41.59.51 0 1.02-.2 1.41-.59l7.78-7.78 2.81-2.81c.8-.78.8-2.07 0-2.86zM5.41 20L4 18.59l7.72-7.72 1.47 1.35L5.41 20z\"/>\n",
              "  </svg>\n",
              "      </button>\n",
              "      \n",
              "  <style>\n",
              "    .colab-df-container {\n",
              "      display:flex;\n",
              "      flex-wrap:wrap;\n",
              "      gap: 12px;\n",
              "    }\n",
              "\n",
              "    .colab-df-convert {\n",
              "      background-color: #E8F0FE;\n",
              "      border: none;\n",
              "      border-radius: 50%;\n",
              "      cursor: pointer;\n",
              "      display: none;\n",
              "      fill: #1967D2;\n",
              "      height: 32px;\n",
              "      padding: 0 0 0 0;\n",
              "      width: 32px;\n",
              "    }\n",
              "\n",
              "    .colab-df-convert:hover {\n",
              "      background-color: #E2EBFA;\n",
              "      box-shadow: 0px 1px 2px rgba(60, 64, 67, 0.3), 0px 1px 3px 1px rgba(60, 64, 67, 0.15);\n",
              "      fill: #174EA6;\n",
              "    }\n",
              "\n",
              "    [theme=dark] .colab-df-convert {\n",
              "      background-color: #3B4455;\n",
              "      fill: #D2E3FC;\n",
              "    }\n",
              "\n",
              "    [theme=dark] .colab-df-convert:hover {\n",
              "      background-color: #434B5C;\n",
              "      box-shadow: 0px 1px 3px 1px rgba(0, 0, 0, 0.15);\n",
              "      filter: drop-shadow(0px 1px 2px rgba(0, 0, 0, 0.3));\n",
              "      fill: #FFFFFF;\n",
              "    }\n",
              "  </style>\n",
              "\n",
              "      <script>\n",
              "        const buttonEl =\n",
              "          document.querySelector('#df-2494eed4-d4be-4209-a272-9bd0a060118f button.colab-df-convert');\n",
              "        buttonEl.style.display =\n",
              "          google.colab.kernel.accessAllowed ? 'block' : 'none';\n",
              "\n",
              "        async function convertToInteractive(key) {\n",
              "          const element = document.querySelector('#df-2494eed4-d4be-4209-a272-9bd0a060118f');\n",
              "          const dataTable =\n",
              "            await google.colab.kernel.invokeFunction('convertToInteractive',\n",
              "                                                     [key], {});\n",
              "          if (!dataTable) return;\n",
              "\n",
              "          const docLinkHtml = 'Like what you see? Visit the ' +\n",
              "            '<a target=\"_blank\" href=https://colab.research.google.com/notebooks/data_table.ipynb>data table notebook</a>'\n",
              "            + ' to learn more about interactive tables.';\n",
              "          element.innerHTML = '';\n",
              "          dataTable['output_type'] = 'display_data';\n",
              "          await google.colab.output.renderOutput(dataTable, element);\n",
              "          const docLink = document.createElement('div');\n",
              "          docLink.innerHTML = docLinkHtml;\n",
              "          element.appendChild(docLink);\n",
              "        }\n",
              "      </script>\n",
              "    </div>\n",
              "  </div>\n",
              "  "
            ]
          },
          "metadata": {},
          "execution_count": 65
        }
      ]
    },
    {
      "cell_type": "markdown",
      "source": [
        "Из таблицы следует, что самая большая средняя цена на игрока в Премьер лиге у Манчестер Сити"
      ],
      "metadata": {
        "id": "DlFTvMgG1Hrf"
      }
    },
    {
      "cell_type": "markdown",
      "source": [
        "8. Самое большое среднее соотношение голов к сыгранным играм среди клубов Премьер Лиги у Манчестер сити."
      ],
      "metadata": {
        "id": "CQRYbI61IQOt"
      }
    },
    {
      "cell_type": "code",
      "source": [
        "df[df['League'] == 'Премьер-Лига'].groupby(['Club'])[['AvGoals']].mean()"
      ],
      "metadata": {
        "colab": {
          "base_uri": "https://localhost:8080/",
          "height": 708
        },
        "id": "uy_09JHo0-4i",
        "outputId": "82ac3737-6ccc-49f4-d46a-955c1ba1b8d3"
      },
      "execution_count": null,
      "outputs": [
        {
          "output_type": "execute_result",
          "data": {
            "text/plain": [
              "                 AvGoals\n",
              "Club                    \n",
              "Арсенал         0.146406\n",
              "Астон Вилла     0.097491\n",
              "Борнмут         0.170404\n",
              "Брайтон         0.070255\n",
              "Брентфорд       0.151840\n",
              "Вест Хэм        0.159116\n",
              "Вулверхэмптон   0.135915\n",
              "Кристал Пэлас   0.089740\n",
              "Лестер          0.141630\n",
              "Ливерпуль       0.189208\n",
              "Лидс            0.129467\n",
              "Манчестер Сити  0.183519\n",
              "Манчестер Юн.   0.148915\n",
              "Ноттингем       0.130632\n",
              "Ньюкасл         0.176477\n",
              "Саутгемптон     0.098802\n",
              "Тоттенхэм       0.163295\n",
              "Фулхэм          0.228297\n",
              "Челси           0.136411\n",
              "Эвертон         0.083529"
            ],
            "text/html": [
              "\n",
              "  <div id=\"df-e4ff1227-75c1-4738-a4bd-620a72ca3b12\">\n",
              "    <div class=\"colab-df-container\">\n",
              "      <div>\n",
              "<style scoped>\n",
              "    .dataframe tbody tr th:only-of-type {\n",
              "        vertical-align: middle;\n",
              "    }\n",
              "\n",
              "    .dataframe tbody tr th {\n",
              "        vertical-align: top;\n",
              "    }\n",
              "\n",
              "    .dataframe thead th {\n",
              "        text-align: right;\n",
              "    }\n",
              "</style>\n",
              "<table border=\"1\" class=\"dataframe\">\n",
              "  <thead>\n",
              "    <tr style=\"text-align: right;\">\n",
              "      <th></th>\n",
              "      <th>AvGoals</th>\n",
              "    </tr>\n",
              "    <tr>\n",
              "      <th>Club</th>\n",
              "      <th></th>\n",
              "    </tr>\n",
              "  </thead>\n",
              "  <tbody>\n",
              "    <tr>\n",
              "      <th>Арсенал</th>\n",
              "      <td>0.146406</td>\n",
              "    </tr>\n",
              "    <tr>\n",
              "      <th>Астон Вилла</th>\n",
              "      <td>0.097491</td>\n",
              "    </tr>\n",
              "    <tr>\n",
              "      <th>Борнмут</th>\n",
              "      <td>0.170404</td>\n",
              "    </tr>\n",
              "    <tr>\n",
              "      <th>Брайтон</th>\n",
              "      <td>0.070255</td>\n",
              "    </tr>\n",
              "    <tr>\n",
              "      <th>Брентфорд</th>\n",
              "      <td>0.151840</td>\n",
              "    </tr>\n",
              "    <tr>\n",
              "      <th>Вест Хэм</th>\n",
              "      <td>0.159116</td>\n",
              "    </tr>\n",
              "    <tr>\n",
              "      <th>Вулверхэмптон</th>\n",
              "      <td>0.135915</td>\n",
              "    </tr>\n",
              "    <tr>\n",
              "      <th>Кристал Пэлас</th>\n",
              "      <td>0.089740</td>\n",
              "    </tr>\n",
              "    <tr>\n",
              "      <th>Лестер</th>\n",
              "      <td>0.141630</td>\n",
              "    </tr>\n",
              "    <tr>\n",
              "      <th>Ливерпуль</th>\n",
              "      <td>0.189208</td>\n",
              "    </tr>\n",
              "    <tr>\n",
              "      <th>Лидс</th>\n",
              "      <td>0.129467</td>\n",
              "    </tr>\n",
              "    <tr>\n",
              "      <th>Манчестер Сити</th>\n",
              "      <td>0.183519</td>\n",
              "    </tr>\n",
              "    <tr>\n",
              "      <th>Манчестер Юн.</th>\n",
              "      <td>0.148915</td>\n",
              "    </tr>\n",
              "    <tr>\n",
              "      <th>Ноттингем</th>\n",
              "      <td>0.130632</td>\n",
              "    </tr>\n",
              "    <tr>\n",
              "      <th>Ньюкасл</th>\n",
              "      <td>0.176477</td>\n",
              "    </tr>\n",
              "    <tr>\n",
              "      <th>Саутгемптон</th>\n",
              "      <td>0.098802</td>\n",
              "    </tr>\n",
              "    <tr>\n",
              "      <th>Тоттенхэм</th>\n",
              "      <td>0.163295</td>\n",
              "    </tr>\n",
              "    <tr>\n",
              "      <th>Фулхэм</th>\n",
              "      <td>0.228297</td>\n",
              "    </tr>\n",
              "    <tr>\n",
              "      <th>Челси</th>\n",
              "      <td>0.136411</td>\n",
              "    </tr>\n",
              "    <tr>\n",
              "      <th>Эвертон</th>\n",
              "      <td>0.083529</td>\n",
              "    </tr>\n",
              "  </tbody>\n",
              "</table>\n",
              "</div>\n",
              "      <button class=\"colab-df-convert\" onclick=\"convertToInteractive('df-e4ff1227-75c1-4738-a4bd-620a72ca3b12')\"\n",
              "              title=\"Convert this dataframe to an interactive table.\"\n",
              "              style=\"display:none;\">\n",
              "        \n",
              "  <svg xmlns=\"http://www.w3.org/2000/svg\" height=\"24px\"viewBox=\"0 0 24 24\"\n",
              "       width=\"24px\">\n",
              "    <path d=\"M0 0h24v24H0V0z\" fill=\"none\"/>\n",
              "    <path d=\"M18.56 5.44l.94 2.06.94-2.06 2.06-.94-2.06-.94-.94-2.06-.94 2.06-2.06.94zm-11 1L8.5 8.5l.94-2.06 2.06-.94-2.06-.94L8.5 2.5l-.94 2.06-2.06.94zm10 10l.94 2.06.94-2.06 2.06-.94-2.06-.94-.94-2.06-.94 2.06-2.06.94z\"/><path d=\"M17.41 7.96l-1.37-1.37c-.4-.4-.92-.59-1.43-.59-.52 0-1.04.2-1.43.59L10.3 9.45l-7.72 7.72c-.78.78-.78 2.05 0 2.83L4 21.41c.39.39.9.59 1.41.59.51 0 1.02-.2 1.41-.59l7.78-7.78 2.81-2.81c.8-.78.8-2.07 0-2.86zM5.41 20L4 18.59l7.72-7.72 1.47 1.35L5.41 20z\"/>\n",
              "  </svg>\n",
              "      </button>\n",
              "      \n",
              "  <style>\n",
              "    .colab-df-container {\n",
              "      display:flex;\n",
              "      flex-wrap:wrap;\n",
              "      gap: 12px;\n",
              "    }\n",
              "\n",
              "    .colab-df-convert {\n",
              "      background-color: #E8F0FE;\n",
              "      border: none;\n",
              "      border-radius: 50%;\n",
              "      cursor: pointer;\n",
              "      display: none;\n",
              "      fill: #1967D2;\n",
              "      height: 32px;\n",
              "      padding: 0 0 0 0;\n",
              "      width: 32px;\n",
              "    }\n",
              "\n",
              "    .colab-df-convert:hover {\n",
              "      background-color: #E2EBFA;\n",
              "      box-shadow: 0px 1px 2px rgba(60, 64, 67, 0.3), 0px 1px 3px 1px rgba(60, 64, 67, 0.15);\n",
              "      fill: #174EA6;\n",
              "    }\n",
              "\n",
              "    [theme=dark] .colab-df-convert {\n",
              "      background-color: #3B4455;\n",
              "      fill: #D2E3FC;\n",
              "    }\n",
              "\n",
              "    [theme=dark] .colab-df-convert:hover {\n",
              "      background-color: #434B5C;\n",
              "      box-shadow: 0px 1px 3px 1px rgba(0, 0, 0, 0.15);\n",
              "      filter: drop-shadow(0px 1px 2px rgba(0, 0, 0, 0.3));\n",
              "      fill: #FFFFFF;\n",
              "    }\n",
              "  </style>\n",
              "\n",
              "      <script>\n",
              "        const buttonEl =\n",
              "          document.querySelector('#df-e4ff1227-75c1-4738-a4bd-620a72ca3b12 button.colab-df-convert');\n",
              "        buttonEl.style.display =\n",
              "          google.colab.kernel.accessAllowed ? 'block' : 'none';\n",
              "\n",
              "        async function convertToInteractive(key) {\n",
              "          const element = document.querySelector('#df-e4ff1227-75c1-4738-a4bd-620a72ca3b12');\n",
              "          const dataTable =\n",
              "            await google.colab.kernel.invokeFunction('convertToInteractive',\n",
              "                                                     [key], {});\n",
              "          if (!dataTable) return;\n",
              "\n",
              "          const docLinkHtml = 'Like what you see? Visit the ' +\n",
              "            '<a target=\"_blank\" href=https://colab.research.google.com/notebooks/data_table.ipynb>data table notebook</a>'\n",
              "            + ' to learn more about interactive tables.';\n",
              "          element.innerHTML = '';\n",
              "          dataTable['output_type'] = 'display_data';\n",
              "          await google.colab.output.renderOutput(dataTable, element);\n",
              "          const docLink = document.createElement('div');\n",
              "          docLink.innerHTML = docLinkHtml;\n",
              "          element.appendChild(docLink);\n",
              "        }\n",
              "      </script>\n",
              "    </div>\n",
              "  </div>\n",
              "  "
            ]
          },
          "metadata": {},
          "execution_count": 66
        }
      ]
    },
    {
      "cell_type": "markdown",
      "source": [
        "Самое большое среднее соотношение наблюдается у Фулхэм"
      ],
      "metadata": {
        "id": "UvVedvyW2ATF"
      }
    },
    {
      "cell_type": "markdown",
      "source": [
        "9. Игроки с левого фланга в среднем дороже игроков с правого фланга."
      ],
      "metadata": {
        "id": "uPps57PdI0wH"
      }
    },
    {
      "cell_type": "code",
      "source": [
        "print(df[((df['Position'] == 'ЛВ') | (df['Position'] == 'ЛП') | (df['Position'] == 'ЛЗ'))]['Price'].mean())\n",
        "print(df[((df['Position'] == 'ПВ') | (df['Position'] == 'ПП') | (df['Position'] == 'ПЗ'))]['Price'].mean())"
      ],
      "metadata": {
        "colab": {
          "base_uri": "https://localhost:8080/"
        },
        "id": "pjTRDkZM2F9G",
        "outputId": "ea054cb2-5c11-487e-8c87-480f5d293495"
      },
      "execution_count": null,
      "outputs": [
        {
          "output_type": "stream",
          "name": "stdout",
          "text": [
            "36.831460674157306\n",
            "31.620689655172413\n"
          ]
        }
      ]
    },
    {
      "cell_type": "markdown",
      "source": [
        "Игроки с левого фланга дороже в среднем на 5 млн Евро."
      ],
      "metadata": {
        "id": "otco_0dF5HAv"
      }
    },
    {
      "cell_type": "markdown",
      "source": [
        "10. Игроки с меньшим ростом имеют больше голевых передач."
      ],
      "metadata": {
        "id": "qztjRGLOJEDk"
      }
    },
    {
      "cell_type": "code",
      "source": [
        "df.groupby(['Height'])[['Asists']].mean().plot(title='Среднее количество голевых передач в зависимости от роста футболистов', xlabel='Рост', ylabel='Голевые передачи')"
      ],
      "metadata": {
        "colab": {
          "base_uri": "https://localhost:8080/",
          "height": 312
        },
        "id": "h8ptgL6W5J-r",
        "outputId": "e5df6ad5-d512-424d-ee7e-6c9bc291581e"
      },
      "execution_count": null,
      "outputs": [
        {
          "output_type": "execute_result",
          "data": {
            "text/plain": [
              "<matplotlib.axes._subplots.AxesSubplot at 0x7f881776a970>"
            ]
          },
          "metadata": {},
          "execution_count": 68
        },
        {
          "output_type": "display_data",
          "data": {
            "text/plain": [
              "<Figure size 432x288 with 1 Axes>"
            ],
            "image/png": "[encoded data removed]"
          },
          "metadata": {
            "needs_background": "light"
          }
        }
      ]
    },
    {
      "cell_type": "markdown",
      "source": [
        "Футболисты с ростом до 185 имеют больше передач, чем с ростом выше 185."
      ],
      "metadata": {
        "id": "FUw_bIe_6cKJ"
      }
    },
    {
      "cell_type": "markdown",
      "source": [
        "Рассчитаем описательные статистики по всей выборке и отдельно для Премьер лиги и ЛаЛиги"
      ],
      "metadata": {
        "id": "2myjb5upJXj6"
      }
    },
    {
      "cell_type": "markdown",
      "source": [
        "**Описательные статистики по всей выборке**"
      ],
      "metadata": {
        "id": "REydq1wYJ_Cg"
      }
    },
    {
      "cell_type": "code",
      "source": [
        "print(\"Среднее значение цены: \" + str(df['Price'].mean()))\n",
        "print(\"Минимальное значение цены: \" + str(df['Price'].min()))\n",
        "print(\"Максимальное значение цены: \" + str(df['Price'].max()))\n",
        "print(\"Медиана цены: \" + str(df['Price'].median()))\n",
        "print(\"Мода цены: \" + str(df['Price'].mode()))\n",
        "print(\"Стандартное отклонение цены: \" + str(df['Price'].std()))"
      ],
      "metadata": {
        "colab": {
          "base_uri": "https://localhost:8080/"
        },
        "id": "b0Z6eI846wF0",
        "outputId": "4c2462b4-8e3b-4cf4-aee0-1e34b1e28419"
      },
      "execution_count": null,
      "outputs": [
        {
          "output_type": "stream",
          "name": "stdout",
          "text": [
            "Среднее значение цены: 35.682\n",
            "Минимальное значение цены: 18\n",
            "Максимальное значение цены: 180\n",
            "Медиана цены: 28.0\n",
            "Мода цены: 0    20\n",
            "dtype: int64\n",
            "Стандартное отклонение цены: 20.517182690884788\n"
          ]
        }
      ]
    },
    {
      "cell_type": "markdown",
      "source": [
        "Средняя цена на игрока равна 35,682 млн Евро, минимальная цена - 18 млн Евро, максимальная - 180 млн Евро. Медиана цены равна 28 млн Евро, мода - 20. Стандартное отклонение указываает на достаточно большой разброс в приблизительно 20 млн Евро."
      ],
      "metadata": {
        "id": "IQxfGco7FsU1"
      }
    },
    {
      "cell_type": "markdown",
      "source": [
        "**Описательные статистики для Премьер лиги**"
      ],
      "metadata": {
        "id": "n6ofcnLpKSxz"
      }
    },
    {
      "cell_type": "code",
      "source": [
        "print(\"Среднее значение цены: \" + str(df[df['League'] == 'Премьер-Лига']['Price'].mean()))\n",
        "print(\"Минимальное значение цены: \" + str(df[df['League'] == 'Премьер-Лига']['Price'].min()))\n",
        "print(\"Максимальное значение цены: \" + str(df[df['League'] == 'Премьер-Лига']['Price'].max()))\n",
        "print(\"Медиана цены: \" + str(df[df['League'] == 'Премьер-Лига']['Price'].median()))\n",
        "print(\"Мода цены: \" + str(df[df['League'] == 'Премьер-Лига']['Price'].mode()))\n",
        "print(\"Стандартное отклонение цены: \" + str(df[df['League'] == 'Премьер-Лига']['Price'].std()))"
      ],
      "metadata": {
        "colab": {
          "base_uri": "https://localhost:8080/"
        },
        "id": "yPeu00mcGfFW",
        "outputId": "1b40cbef-01ea-4df2-d091-572b3d4908b1"
      },
      "execution_count": null,
      "outputs": [
        {
          "output_type": "stream",
          "name": "stdout",
          "text": [
            "Среднее значение цены: 36.46511627906977\n",
            "Минимальное значение цены: 18\n",
            "Максимальное значение цены: 170\n",
            "Медиана цены: 30.0\n",
            "Мода цены: 0    22\n",
            "dtype: int64\n",
            "Стандартное отклонение цены: 20.15981572244775\n"
          ]
        }
      ]
    },
    {
      "cell_type": "markdown",
      "source": [
        "Средняя цена на игрока чуть выше чем по всей выборке, минимальная и максимальная почти не отличаются от показателй по всей выборке. Медиана цены равна 30 млн Евро, мода - 22. Стандартное отклонение указываает на практически такой же разброс как и  по всей выборке."
      ],
      "metadata": {
        "id": "FXsQGJbIHs9G"
      }
    },
    {
      "cell_type": "markdown",
      "source": [
        "**Описательные статистики для ЛаЛиги**"
      ],
      "metadata": {
        "id": "9j8LZkPjKlZD"
      }
    },
    {
      "cell_type": "code",
      "source": [
        "print(\"Среднее значение цены: \" + str(df[df['League'] == 'ЛаЛига']['Price'].mean()))\n",
        "print(\"Минимальное значение цены: \" + str(df[df['League'] == 'ЛаЛига']['Price'].min()))\n",
        "print(\"Максимальное значение цены: \" + str(df[df['League'] == 'ЛаЛига']['Price'].max()))\n",
        "print(\"Медиана цены: \" + str(df[df['League'] == 'ЛаЛига']['Price'].median()))\n",
        "print(\"Мода цены: \" + str(df[df['League'] == 'ЛаЛига']['Price'].mode()))\n",
        "print(\"Стандартное отклонение цены: \" + str(df[df['League'] == 'ЛаЛига']['Price'].std()))"
      ],
      "metadata": {
        "colab": {
          "base_uri": "https://localhost:8080/"
        },
        "id": "l-MeOfleISrE",
        "outputId": "34a92d86-650d-44ed-dfa9-43bb73fb134c"
      },
      "execution_count": null,
      "outputs": [
        {
          "output_type": "stream",
          "name": "stdout",
          "text": [
            "Среднее значение цены: 39.371428571428574\n",
            "Минимальное значение цены: 18\n",
            "Максимальное значение цены: 120\n",
            "Медиана цены: 35.0\n",
            "Мода цены: 0    25\n",
            "dtype: int64\n",
            "Стандартное отклонение цены: 21.867301662243964\n"
          ]
        }
      ]
    },
    {
      "cell_type": "markdown",
      "source": [
        "Средняя цена на игрока чуть выше чем по всей выборке и по Премьер лиге, минимальная цена - 18 млн Евро, максимальная - 120 млн Евро. Медиана цены равна 35 млн Евро, мода - 25. Стандартное отклонение указываает на чуть больший разброс, чем при всей выборке."
      ],
      "metadata": {
        "id": "KqKYin55IbPG"
      }
    },
    {
      "cell_type": "markdown",
      "source": [
        "**Корреляция между числовыми данными**"
      ],
      "metadata": {
        "id": "yoVNRcj_K_3e"
      }
    },
    {
      "cell_type": "code",
      "source": [
        "df_old.corr()"
      ],
      "metadata": {
        "colab": {
          "base_uri": "https://localhost:8080/",
          "height": 332
        },
        "id": "OksNUnD-JMyv",
        "outputId": "e48d7997-d788-4605-e6f3-da47d242f393"
      },
      "execution_count": null,
      "outputs": [
        {
          "output_type": "execute_result",
          "data": {
            "text/plain": [
              "                Age    Height       Num     Price     Games     Goals  \\\n",
              "Age        1.000000  0.012508 -0.111977 -0.034632  0.878138  0.457932   \n",
              "Height     0.012508  1.000000  0.019283 -0.002602 -0.034049 -0.107919   \n",
              "Num       -0.111977  0.019283  1.000000  0.018939 -0.059791 -0.015598   \n",
              "Price     -0.034632 -0.002602  0.018939  1.000000  0.115754  0.174656   \n",
              "Games      0.878138 -0.034049 -0.059791  0.115754  1.000000  0.620708   \n",
              "Goals      0.457932 -0.107919 -0.015598  0.174656  0.620708  1.000000   \n",
              "Asists     0.515934 -0.297222 -0.009199  0.210429  0.694226  0.792371   \n",
              "Max price  0.309617 -0.053240  0.003716  0.771190  0.482172  0.478609   \n",
              "AvGoals    0.070515 -0.156101  0.030632  0.229160  0.233291  0.785584   \n",
              "\n",
              "             Asists  Max price   AvGoals  \n",
              "Age        0.515934   0.309617  0.070515  \n",
              "Height    -0.297222  -0.053240 -0.156101  \n",
              "Num       -0.009199   0.003716  0.030632  \n",
              "Price      0.210429   0.771190  0.229160  \n",
              "Games      0.694226   0.482172  0.233291  \n",
              "Goals      0.792371   0.478609  0.785584  \n",
              "Asists     1.000000   0.538201  0.562908  \n",
              "Max price  0.538201   1.000000  0.344196  \n",
              "AvGoals    0.562908   0.344196  1.000000  "
            ],
            "text/html": [
              "\n",
              "  <div id=\"df-7bf6b832-40c0-4c38-9bd4-7af0d748ca0f\">\n",
              "    <div class=\"colab-df-container\">\n",
              "      <div>\n",
              "<style scoped>\n",
              "    .dataframe tbody tr th:only-of-type {\n",
              "        vertical-align: middle;\n",
              "    }\n",
              "\n",
              "    .dataframe tbody tr th {\n",
              "        vertical-align: top;\n",
              "    }\n",
              "\n",
              "    .dataframe thead th {\n",
              "        text-align: right;\n",
              "    }\n",
              "</style>\n",
              "<table border=\"1\" class=\"dataframe\">\n",
              "  <thead>\n",
              "    <tr style=\"text-align: right;\">\n",
              "      <th></th>\n",
              "      <th>Age</th>\n",
              "      <th>Height</th>\n",
              "      <th>Num</th>\n",
              "      <th>Price</th>\n",
              "      <th>Games</th>\n",
              "      <th>Goals</th>\n",
              "      <th>Asists</th>\n",
              "      <th>Max price</th>\n",
              "      <th>AvGoals</th>\n",
              "    </tr>\n",
              "  </thead>\n",
              "  <tbody>\n",
              "    <tr>\n",
              "      <th>Age</th>\n",
              "      <td>1.000000</td>\n",
              "      <td>0.012508</td>\n",
              "      <td>-0.111977</td>\n",
              "      <td>-0.034632</td>\n",
              "      <td>0.878138</td>\n",
              "      <td>0.457932</td>\n",
              "      <td>0.515934</td>\n",
              "      <td>0.309617</td>\n",
              "      <td>0.070515</td>\n",
              "    </tr>\n",
              "    <tr>\n",
              "      <th>Height</th>\n",
              "      <td>0.012508</td>\n",
              "      <td>1.000000</td>\n",
              "      <td>0.019283</td>\n",
              "      <td>-0.002602</td>\n",
              "      <td>-0.034049</td>\n",
              "      <td>-0.107919</td>\n",
              "      <td>-0.297222</td>\n",
              "      <td>-0.053240</td>\n",
              "      <td>-0.156101</td>\n",
              "    </tr>\n",
              "    <tr>\n",
              "      <th>Num</th>\n",
              "      <td>-0.111977</td>\n",
              "      <td>0.019283</td>\n",
              "      <td>1.000000</td>\n",
              "      <td>0.018939</td>\n",
              "      <td>-0.059791</td>\n",
              "      <td>-0.015598</td>\n",
              "      <td>-0.009199</td>\n",
              "      <td>0.003716</td>\n",
              "      <td>0.030632</td>\n",
              "    </tr>\n",
              "    <tr>\n",
              "      <th>Price</th>\n",
              "      <td>-0.034632</td>\n",
              "      <td>-0.002602</td>\n",
              "      <td>0.018939</td>\n",
              "      <td>1.000000</td>\n",
              "      <td>0.115754</td>\n",
              "      <td>0.174656</td>\n",
              "      <td>0.210429</td>\n",
              "      <td>0.771190</td>\n",
              "      <td>0.229160</td>\n",
              "    </tr>\n",
              "    <tr>\n",
              "      <th>Games</th>\n",
              "      <td>0.878138</td>\n",
              "      <td>-0.034049</td>\n",
              "      <td>-0.059791</td>\n",
              "      <td>0.115754</td>\n",
              "      <td>1.000000</td>\n",
              "      <td>0.620708</td>\n",
              "      <td>0.694226</td>\n",
              "      <td>0.482172</td>\n",
              "      <td>0.233291</td>\n",
              "    </tr>\n",
              "    <tr>\n",
              "      <th>Goals</th>\n",
              "      <td>0.457932</td>\n",
              "      <td>-0.107919</td>\n",
              "      <td>-0.015598</td>\n",
              "      <td>0.174656</td>\n",
              "      <td>0.620708</td>\n",
              "      <td>1.000000</td>\n",
              "      <td>0.792371</td>\n",
              "      <td>0.478609</td>\n",
              "      <td>0.785584</td>\n",
              "    </tr>\n",
              "    <tr>\n",
              "      <th>Asists</th>\n",
              "      <td>0.515934</td>\n",
              "      <td>-0.297222</td>\n",
              "      <td>-0.009199</td>\n",
              "      <td>0.210429</td>\n",
              "      <td>0.694226</td>\n",
              "      <td>0.792371</td>\n",
              "      <td>1.000000</td>\n",
              "      <td>0.538201</td>\n",
              "      <td>0.562908</td>\n",
              "    </tr>\n",
              "    <tr>\n",
              "      <th>Max price</th>\n",
              "      <td>0.309617</td>\n",
              "      <td>-0.053240</td>\n",
              "      <td>0.003716</td>\n",
              "      <td>0.771190</td>\n",
              "      <td>0.482172</td>\n",
              "      <td>0.478609</td>\n",
              "      <td>0.538201</td>\n",
              "      <td>1.000000</td>\n",
              "      <td>0.344196</td>\n",
              "    </tr>\n",
              "    <tr>\n",
              "      <th>AvGoals</th>\n",
              "      <td>0.070515</td>\n",
              "      <td>-0.156101</td>\n",
              "      <td>0.030632</td>\n",
              "      <td>0.229160</td>\n",
              "      <td>0.233291</td>\n",
              "      <td>0.785584</td>\n",
              "      <td>0.562908</td>\n",
              "      <td>0.344196</td>\n",
              "      <td>1.000000</td>\n",
              "    </tr>\n",
              "  </tbody>\n",
              "</table>\n",
              "</div>\n",
              "      <button class=\"colab-df-convert\" onclick=\"convertToInteractive('df-7bf6b832-40c0-4c38-9bd4-7af0d748ca0f')\"\n",
              "              title=\"Convert this dataframe to an interactive table.\"\n",
              "              style=\"display:none;\">\n",
              "        \n",
              "  <svg xmlns=\"http://www.w3.org/2000/svg\" height=\"24px\"viewBox=\"0 0 24 24\"\n",
              "       width=\"24px\">\n",
              "    <path d=\"M0 0h24v24H0V0z\" fill=\"none\"/>\n",
              "    <path d=\"M18.56 5.44l.94 2.06.94-2.06 2.06-.94-2.06-.94-.94-2.06-.94 2.06-2.06.94zm-11 1L8.5 8.5l.94-2.06 2.06-.94-2.06-.94L8.5 2.5l-.94 2.06-2.06.94zm10 10l.94 2.06.94-2.06 2.06-.94-2.06-.94-.94-2.06-.94 2.06-2.06.94z\"/><path d=\"M17.41 7.96l-1.37-1.37c-.4-.4-.92-.59-1.43-.59-.52 0-1.04.2-1.43.59L10.3 9.45l-7.72 7.72c-.78.78-.78 2.05 0 2.83L4 21.41c.39.39.9.59 1.41.59.51 0 1.02-.2 1.41-.59l7.78-7.78 2.81-2.81c.8-.78.8-2.07 0-2.86zM5.41 20L4 18.59l7.72-7.72 1.47 1.35L5.41 20z\"/>\n",
              "  </svg>\n",
              "      </button>\n",
              "      \n",
              "  <style>\n",
              "    .colab-df-container {\n",
              "      display:flex;\n",
              "      flex-wrap:wrap;\n",
              "      gap: 12px;\n",
              "    }\n",
              "\n",
              "    .colab-df-convert {\n",
              "      background-color: #E8F0FE;\n",
              "      border: none;\n",
              "      border-radius: 50%;\n",
              "      cursor: pointer;\n",
              "      display: none;\n",
              "      fill: #1967D2;\n",
              "      height: 32px;\n",
              "      padding: 0 0 0 0;\n",
              "      width: 32px;\n",
              "    }\n",
              "\n",
              "    .colab-df-convert:hover {\n",
              "      background-color: #E2EBFA;\n",
              "      box-shadow: 0px 1px 2px rgba(60, 64, 67, 0.3), 0px 1px 3px 1px rgba(60, 64, 67, 0.15);\n",
              "      fill: #174EA6;\n",
              "    }\n",
              "\n",
              "    [theme=dark] .colab-df-convert {\n",
              "      background-color: #3B4455;\n",
              "      fill: #D2E3FC;\n",
              "    }\n",
              "\n",
              "    [theme=dark] .colab-df-convert:hover {\n",
              "      background-color: #434B5C;\n",
              "      box-shadow: 0px 1px 3px 1px rgba(0, 0, 0, 0.15);\n",
              "      filter: drop-shadow(0px 1px 2px rgba(0, 0, 0, 0.3));\n",
              "      fill: #FFFFFF;\n",
              "    }\n",
              "  </style>\n",
              "\n",
              "      <script>\n",
              "        const buttonEl =\n",
              "          document.querySelector('#df-7bf6b832-40c0-4c38-9bd4-7af0d748ca0f button.colab-df-convert');\n",
              "        buttonEl.style.display =\n",
              "          google.colab.kernel.accessAllowed ? 'block' : 'none';\n",
              "\n",
              "        async function convertToInteractive(key) {\n",
              "          const element = document.querySelector('#df-7bf6b832-40c0-4c38-9bd4-7af0d748ca0f');\n",
              "          const dataTable =\n",
              "            await google.colab.kernel.invokeFunction('convertToInteractive',\n",
              "                                                     [key], {});\n",
              "          if (!dataTable) return;\n",
              "\n",
              "          const docLinkHtml = 'Like what you see? Visit the ' +\n",
              "            '<a target=\"_blank\" href=https://colab.research.google.com/notebooks/data_table.ipynb>data table notebook</a>'\n",
              "            + ' to learn more about interactive tables.';\n",
              "          element.innerHTML = '';\n",
              "          dataTable['output_type'] = 'display_data';\n",
              "          await google.colab.output.renderOutput(dataTable, element);\n",
              "          const docLink = document.createElement('div');\n",
              "          docLink.innerHTML = docLinkHtml;\n",
              "          element.appendChild(docLink);\n",
              "        }\n",
              "      </script>\n",
              "    </div>\n",
              "  </div>\n",
              "  "
            ]
          },
          "metadata": {},
          "execution_count": 72
        }
      ]
    },
    {
      "cell_type": "markdown",
      "source": [
        "Можно сделать выводы, что:\n",
        "1. Возраст напрямую влияет на количество сыгранных игр и имеет умеренную корреляцию с количеством голов и ассистов. Также возраст имеет положительную корреляцию с максимальной ценой, что говорит нам о большей максимальной стоимости игроков,чей возраст выше.\n",
        "2. Рост имеет низкую корреляцию со всеми параметрами. Следовательно, практически ни с чем не связан.\n",
        "3. Цена имеет высокую корреляцию с максимальной ценой, значит игроки, которые ранье стояли больше, сейчас также имеют большую цену.\n",
        "4. Количество игр имеею умеренную корелляцию с количеством голов и асистов. Следовательно, чем больше игроки сыграют матчей, тем больше они забивают и дают голевых передач.\n",
        "5. Количество голов имеет высокую корреляцию с количеством ассистом. Откуда следует, что при большем забивании голов шанс дать голевую передачу так же высок.\n",
        "6. Соотношение голов к сыгранным играм имеет умеренную корреляцию с ассистами и высокую корреляцию с количеством голов, откуда следует, что этот показатель сильно зависит от количества голов и косвенно от количества голевых передач."
      ],
      "metadata": {
        "id": "V9Ki69THLjTd"
      }
    },
    {
      "cell_type": "markdown",
      "source": [
        "**Выводы**\n",
        "\n",
        "В ходе исследования нашли подтверждение следующие гипотезы:\n",
        "1. Количество забитых голов зависит от позиции игрока\n",
        "2. Самые дорогие игроки находятся в Премьер лиге.\n",
        "3. У игроков с возрастом от 30 самая большая разница в текущей и максимальной цене.\n",
        "4. Игроки с левого фланга в среднем дороже игроков с правого фланга.\n",
        "5. Игроки с меньшим ростом имеют больше голевых передач.\n",
        "\n",
        "Однако есть гипотезы которые были опровергнуты:\n",
        "\n",
        "1. Как оказалось, форварды - не самые дорогие игроки, откуда следует, что количество забитых голов не единственный влиящий на цену показатель.\n",
        "\n",
        "2. Французы - не самая дорогая нация. Можно сделать вывод, что для подтверждения этого нужно либо больше данных, либо есть нации, чья средняя стоимость действительно больше.\n",
        "\n",
        "3. Из этого следует что игроки с ростом 190-195 стоят дороже игроков в ростом ниже 175. Однако в диапазоне 180-190 зависимости не обнаружено.\n",
        "\n",
        "4. Самая большая средняя цена на игрока в Манчестер Сити среди клубов Премьер лиги. Это означает, что состав этой команды самый дорогий относительно всех остальных команд лиги, следовательно стоимость игроков в более престижной команде выше.\n",
        "\n",
        "5. Самое большое среднее соотношение голов к сыгранным играм среди клубов Премьер Лиги у Фулхэм. Из этого следует, что это соотношение не влияет на общие показатели успешности клуба."
      ],
      "metadata": {
        "id": "nMtOLVbMO0sR"
      }
    },
    {
      "cell_type": "markdown",
      "source": [
        "По итогам исследования, его цели и задачи были реализованы. Было проанализировано влияние лиг и клубов на стоимость игроков, их происхождения, позиций, статистик голов и передач, а также влияние роста и возраста."
      ],
      "metadata": {
        "id": "YZ9CJ3NKTa2z"
      }
    },
    {
      "cell_type": "markdown",
      "source": [
        "**Выводы проекта:**\n",
        "1. Количество забитых голов не является основным показателем цены игрока.\n",
        "2. Цена футболиста зависит от лиги и клуба, в котором он играет.\n",
        "3. Игроки европейских наций имеют более высокую цену.\n",
        "4. Французы - не самая дорогая нация.\n",
        "5. Позиция практически не влияет на цену игрока, однако была найдена интересная зависимость, что игроки с левого фланга дороже игроков с правого.\n",
        "6. В среднем рост не влияет на цену игроков, за исключением некоторых моментов. Игроки с ростом меньше 170 стоят дешевле, а игроки с ростом 193 оказались в выборке самыми дорогими среди всех.\n",
        "7. Игроки с большим возрастом имеют большую разницу в максимальной и текущей цене. Однако игроки с более высокой максимальной ценой имеют большую текущую цену."
      ],
      "metadata": {
        "id": "lRJQJxEdUqSv"
      }
    },
    {
      "cell_type": "markdown",
      "source": [
        "Большая часть выводов подтвердилась с начальными гипотезами, однако были обнаружены интересные особенности:\n",
        "1. Франция оказалось не самой дорогой нацией, хотя показывает наибольшие успехи относительно других стран.\n",
        "2. Разница между стоимостью игроков левого и правого фланга оказалась неожиданной.\n",
        "3. особенность средней цены игроков с ростом 193, казалось, что максимальная цена должна быть у игроков со средним ростом.\n"
      ],
      "metadata": {
        "id": "1pbdxS7WXxPT"
      }
    }
  ]
}